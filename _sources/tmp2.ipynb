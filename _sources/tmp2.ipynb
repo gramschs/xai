{
 "cells": [
  {
   "cell_type": "markdown",
   "id": "eab12f7b",
   "metadata": {},
   "source": [
    "# Erklärbarkeit von KI-Modellen\n",
    "\n",
    "Mit Künstlicher Intelligenz (KI) beschäftigen sich Informatikerinnen und\n",
    "Informatiker bereits seit 1955. Die Mehrheit der Bevölkerung in Deutschland hat\n",
    "jedoch erst mit der Veröffentlichung von ChatGPT im November 2022 erstmals\n",
    "bewusst ein KI-System genutzt. Seitdem findet eine überfällige Diskussion statt,\n",
    "wie wir als Gesellschaft zukünftig mit KI-Anwendungen umgehen sollen. Eine\n",
    "besondere Herausforderung in diesem Kontext ist die **Erklärbarkeit von\n",
    "KI-Modellen**, also die Nachvollziehbarkeit, wie KI-Systeme ihre Prognosen und\n",
    "Entscheidungen treffen. Die Herausforderung besteht besonders bei komplexen\n",
    "Modellen wie tiefen neuronalen Netzen, deren Struktur und Entscheidungslogik für\n",
    "Menschen oft schwer nachvollziehbar sind.\n",
    "\n",
    "## Lernziele\n",
    "\n",
    "```{admonition} Lernziele\n",
    ":class: goals\n",
    "* Sie verstehen, warum **Erklärbarkeit von KI-Modellen** gesellschaftlich\n",
    "  relevant ist.\n",
    "* Sie kennen die Begriffe **White-Box-Modell** und **Black-Box-Modell**.\n",
    "* Sie können die Funktionsweise des Erklärungsmodells **LIME** (Local\n",
    "  Interpretable Model-Agnostic Explanations) beschreiben und an einem einfachen\n",
    "  Beispiel anwenden.\n",
    "* Sie können Erklärungswerkzeuge unterscheiden nach\n",
    "  1. **Komplexität** (intrinsische Modelle oder Post-hoc-Methoden),\n",
    "  2. **Umfang** (global oder lokal) und\n",
    "  3. **Modellabhängigkeit** (modellspezifisch oder modellagnostisch).\n",
    "```\n",
    "\n",
    "## Warum brauchen wir erklärbare KI-Modelle?\n",
    "\n",
    "Neuronale Netze, insbesondere mehrschichtige neuronale Netze im Deep Learning,\n",
    "haben in den letzten Jahren zu einem enormen Anstieg bei der Anwendung von\n",
    "KI-Systemen geführt. Laut einer [Studie von\n",
    "NextMSC](https://www.nextmsc.com/report/artificial-intelligence-market) wird\n",
    "sich der weltweite Umsatz von KI (einschließlich Anwendungen, Infrastruktur\n",
    "sowie IT- und Unternehmensdienstleistungen) bis zum Jahr 2030 verzwanzigfachen.\n",
    "Dennoch zögern deutsche Unternehmen noch, KI-Systeme umfassend einzusetzen, wie\n",
    "der Bericht [Statista → KI Perspektive der deutschen\n",
    "Wirtschaft](https://de.statista.com/themen/9400/ki-in-der-deutschen-wirtschaft/#topicOverview)\n",
    "zeigt. Viele Unternehmen zweifeln an der Qualität der verfügbaren Daten für das\n",
    "Training der KI-Systeme und stufen die mangelnde Transparenz der\n",
    "KI-Entscheidungen als Risiko ein. Ohne Vertrauen in die Vorhersagefähigkeiten\n",
    "der KI bleiben sie daher vorsichtig bei der Einführung solcher Systeme.\n",
    "\n",
    "Selbst für Fachleute bleiben manche KI-Modelle wie beispielsweise die tiefen\n",
    "neuronalen Netze intransparent. Hier setzen erklärbare KI-Modelle an: Sie sollen\n",
    "das Vertrauen in die Entscheidungen der Systeme stärken und nachvollziehbare\n",
    "Einblicke in die Entscheidungslogik der KI ermöglichen.\n",
    "\n",
    "## Anwendungsbeispiel: das Schuheinlagen-Orakel\n",
    "\n",
    "Anhand eines fiktiven Anwendungsbeispiels aus der Produktion erarbeiten wir uns\n",
    "das Thema Erklärbarkeit von KI-Modellen. Angenommen, eine Firma stellt\n",
    "personalisierte Schuheinlagen her. Dabei sollen die Einlagen sowohl an die\n",
    "Geometrie des Fußes angepasst werden als auch an die Druckbelastungen des Fußes\n",
    "beim Gehen. Sowohl Geometrie als auch Druckbelastungen werden digital erfasst,\n",
    "und basierend auf den Messungen wird die Schuheinlage in einzelne\n",
    "Belastungszonen eingeteilt und in 3D gedruckt. Zwar ist die Firma in diesem\n",
    "Beispiel fiktiv, ein Prototyp dieses Prozesses existiert jedoch bereits (siehe\n",
    "{cite}`voelz:2023`) und könnte so tatsächlich in naher Zukunft von einem\n",
    "Start-Up umgesetzt werden.\n",
    "\n",
    "Beim 3D-Druck gibt es Zielkonflikte. Einerseits soll möglichst wenig Material\n",
    "eingesetzt werden, andererseits muss die gedruckte Struktur dennoch die\n",
    "Belastung aushalten, die für diese Belastungszone vorgesehen ist. Zur\n",
    "Unterstützung der Entwicklung der personalisierten Schuheinlage gibt es ein\n",
    "KI-Modell, das die maximale Kraft (in Newton) prognostiziert, mit der eine\n",
    "3D-gedruckte Gitterstruktur belastet werden kann. Aus diesen 3D-Bauteilen werden\n",
    "dann die Schuheinlagen zusammengesetzt.\n",
    "\n",
    "Spaßeshalber nennen wir dieses KI-Modell **Schuheinlagen-Orakel**, denn leider\n",
    "liegt es nur binär vor. Daher müssen wir auch das Modul `dill` benutzen, um es\n",
    "zu laden."
   ]
  },
  {
   "cell_type": "code",
   "execution_count": 1,
   "id": "b2a503c2",
   "metadata": {},
   "outputs": [],
   "source": [
    "import dill\n",
    "with open('schuheinlagen_orakel.dill', 'rb') as f:\n",
    "    ki_modell = dill.load(f)"
   ]
  },
  {
   "cell_type": "markdown",
   "id": "ee20d570",
   "metadata": {},
   "source": [
    "Als nächstes benutzen wir die eingebaute Hilfe des KI-Systems, um mehr über das\n",
    "Schuheinlagen-Orakel zu erfahren."
   ]
  },
  {
   "cell_type": "code",
   "execution_count": null,
   "id": "232f7f64",
   "metadata": {},
   "outputs": [],
   "source": [
    "help(ki_modell)"
   ]
  },
  {
   "cell_type": "markdown",
   "id": "145ac18d",
   "metadata": {},
   "source": [
    "Die Hilfe gibt Auskunft darüber, wie das Schuheinlagen-Orakel verwendet werden\n",
    "kann. Das KI-Modell liefert Prognosen zur maximalen Kraft, die ein Bauteil\n",
    "aushalten kann, basierend auf den Eingabemerkmalen Zellenform, Zellengröße und\n",
    "Füllgrad. Laut Dokumentation ist die Zellenform entweder `1` für eine X-Zelle\n",
    "oder `2` für einen Gyroiden. Was sich hinter diesen Fachbegriffen verbirgt,\n",
    "können nur die Ingenieure beantworten, die diesen Produktionsprozess entwickelt\n",
    "haben (siehe Abbildung 1).\n",
    "\n",
    "```{figure} pics/zellenform.png\n",
    ":alt: Zellenform der Bauteile\n",
    ":align: center\n",
    ":name: zellenform\n",
    "Zellenform der Bauteile: links X-Zelle codiert als 1 und rechts Gyroid codiert als 2  \n",
    "(Quelle: Tim Schwitzner {cite}`schwitzner:2024`).\n",
    "```\n",
    "\n",
    "Darüber hinaus muss die Zellengröße zwischen $\\pu{2 mm}$ und $\\pu{10 mm}$\n",
    "liegen. Der Füllgrad liegt zwischen $\\pu{20 \\%}$ und $\\pu{45 \\%}$, wobei dieser\n",
    "Wert als Zahl im Intervall $[0,1]$ angegeben wird.\n",
    "\n",
    "Um mit dem KI-Modell vertraut zu werden, lassen wir eine Prognose erstellen. Wir\n",
    "nutzen das Modul Pandas zur Verwaltung der Daten und importieren es daher in\n",
    "einem ersten Schritt mit seiner üblichen Abkürzung `pd`. Als nächstes definieren\n",
    "wir ein Bauteil. Dazu verwenden wir einen Pandas-DataFrame als Datenstruktur,\n",
    "der durch ein Dictionary initialisiert wird. Die Schlüssel des Dictionaries sind\n",
    "die Merkmale `'Zellenform'`, `'Zellengroesse'` und `'Fuellgrad'`. Die Werte sind\n",
    "Listen mit den entsprechenden Eigenschaften der 3D-gedruckten Bauteile. Auch\n",
    "wenn nur ein Bauteil betrachtet wird, ist eine Liste aufgrund der Syntax\n",
    "erforderlich. Zuletzt lassen wir uns die initialisierte Datenstruktur mit der\n",
    "Pandas-Methode `.head()` anzeigen."
   ]
  },
  {
   "cell_type": "code",
   "execution_count": 2,
   "id": "267256ee",
   "metadata": {},
   "outputs": [
    {
     "data": {
      "text/html": [
       "<div>\n",
       "<style scoped>\n",
       "    .dataframe tbody tr th:only-of-type {\n",
       "        vertical-align: middle;\n",
       "    }\n",
       "\n",
       "    .dataframe tbody tr th {\n",
       "        vertical-align: top;\n",
       "    }\n",
       "\n",
       "    .dataframe thead th {\n",
       "        text-align: right;\n",
       "    }\n",
       "</style>\n",
       "<table border=\"1\" class=\"dataframe\">\n",
       "  <thead>\n",
       "    <tr style=\"text-align: right;\">\n",
       "      <th></th>\n",
       "      <th>Zellenform</th>\n",
       "      <th>Zellengroesse</th>\n",
       "      <th>Fuellgrad</th>\n",
       "    </tr>\n",
       "  </thead>\n",
       "  <tbody>\n",
       "    <tr>\n",
       "      <th>0</th>\n",
       "      <td>1</td>\n",
       "      <td>3.0</td>\n",
       "      <td>0.3</td>\n",
       "    </tr>\n",
       "  </tbody>\n",
       "</table>\n",
       "</div>"
      ],
      "text/plain": [
       "   Zellenform  Zellengroesse  Fuellgrad\n",
       "0           1            3.0        0.3"
      ]
     },
     "execution_count": 2,
     "metadata": {},
     "output_type": "execute_result"
    }
   ],
   "source": [
    "import pandas as pd \n",
    "\n",
    "bauteil = pd.DataFrame({\n",
    "    'Zellenform': [1],\n",
    "    'Zellengroesse': [3.0],\n",
    "    'Fuellgrad': [0.3]\n",
    "})\n",
    "\n",
    "bauteil.head()"
   ]
  },
  {
   "cell_type": "markdown",
   "id": "6abb5bbb",
   "metadata": {},
   "source": [
    "Nun können wir die `predict()`-Methode nutzen, um die maximale Kraft\n",
    "prognostizieren zu lassen. Wir speichern das Ergebnis in der Variablen\n",
    "`maximale_kraft`."
   ]
  },
  {
   "cell_type": "code",
   "execution_count": 3,
   "id": "bbe874c9",
   "metadata": {},
   "outputs": [
    {
     "name": "stdout",
     "output_type": "stream",
     "text": [
      "[42.335805]\n"
     ]
    }
   ],
   "source": [
    "maximale_kraft = ki_modell.predict(bauteil)\n",
    "print(maximale_kraft)"
   ]
  },
  {
   "cell_type": "markdown",
   "id": "bb938dd4",
   "metadata": {},
   "source": [
    "Das Bauteil hält eine maximale Kraft von $\\pu{42.3 N}$ aus.\n",
    "\n",
    "Obwohl das Schuheinlagen-Orakel eine Prognose liefert, bleibt das System für uns\n",
    "eine **Black Box**. Die innere Struktur des KI-Modells ist nicht transparent;\n",
    "wir wissen nicht, *wie* das KI-Modell zu seiner Prognose gekommen ist.\n",
    "\n",
    "Ist ein solches Szenario realistisch? Tatsächlich kommen solche Szenarien\n",
    "häufiger vor als erwünscht. Verlassen beispielsweise Wissensträger ein\n",
    "Unternehmen, ist es oft nicht möglich, ihre Expertise ausreichend für die\n",
    "nachfolgenden Mitarbeiterinnen und Mitarbeiter zu dokumentieren. Aber auch die\n",
    "zunehmend *komplexeren KI-Modelle* sind für uns Menschen undurchsichtig. Auch\n",
    "können die Eingabedaten für ein KI-Modell so stark weiterverarbeitet worden\n",
    "sein, dass auch die Eingabedaten selbst nicht mehr für uns Menschen\n",
    "nachvollziehbar sind. Ist ein KI-Modell undurchsichtig oder sind die\n",
    "Eingangsdaten nicht nachvollziehbar, wird das KI-Modell als Black-Box-Modell\n",
    "bezeichnet.\n",
    "\n",
    "```{admonition} Was ist ... ein Black-Box-Modell?\n",
    ":class: note\n",
    "Ein KI-Modell wird als Black-Box-Modell bezeichnet, wenn es keine transparente\n",
    "Entscheidungslogik oder nachvollziehbare Eingangsdaten besitzt.\n",
    "```\n",
    "\n",
    "Das Gegenteil eines Black-Box-Modells ist das sogenannte **White-Box-Modell**.\n",
    "Es ist im Kontext der erklärbaren KI folgendermaßen definiert.\n",
    "\n",
    "```{admonition} Was ist ... ein White-Box-Modell?\n",
    ":class: note\n",
    "Ein KI-Modell wird als White-Box-Modell bezeichnet, wenn seine\n",
    "Entscheidungslogik transparent ist und es nachvollziehbare Eingangsdaten\n",
    "besitzt.\n",
    "```\n",
    "\n",
    "## Das LIME-Modell\n",
    "\n",
    "Kehren wir zurück zu dem fiktiven Anwendungsbeispiel und stellen uns vor, die\n",
    "Entwickler des Schuheinlagen-Orakels haben das Unternehmen verlassen. Die\n",
    "Konstruktionsabteilung möchte nun verstehen, warum für ein 3D-gedrucktes Bauteil\n",
    "mit der Zellenform X-Zelle, einer Zellengröße von $\\pu{3 mm}$ und einem Füllgrad\n",
    "von $\\pu{30 \\%}$ eine maximale Kraft von $\\pu{42.3 N}$ prognostiziert wird. Um\n",
    "ein KI-Modell erklärbar zu machen, gibt es verschiedene Ansätze. Ein häufig\n",
    "verwendetes Verfahren ist **LIME**. LIME ist ein Akronym und steht für\n",
    "\n",
    "**L**ocal **I**nterpretable **M**odel-agnostic **E**xplanations.\n",
    "\n",
    "*Lokal* bedeutet, dass eine Erklärung für ein einzelnes Beispiel gesucht wird.\n",
    "Gleichzeitig soll das LIME-Modell *interpretierbar* sein, also ein\n",
    "White-Box-Modell darstellen. *Modellagnostisch* bedeutet, dass die LIME-Methode\n",
    "unabhängig von der Struktur des zugrunde liegenden KI-Modells funktioniert und\n",
    "für verschiedene KI-Modelle eingesetzt werden kann.\n",
    "\n",
    "```{admonition} Wie funktioniert die LIME-Methode?\n",
    ":class: notes\n",
    "1. *Variation der Daten*: Für ein ausgewähltes Beispiel, die sogenannte\n",
    "   Referenz, erzeugen wir abgewandelte Varianten der Eingabedaten mit kleinen\n",
    "   Änderungen im Vergleich zum Referenzbeispiel.\n",
    "2. *Berechnung der Prognosen*: Für jede dieser leicht abgeänderten Eingabedaten\n",
    "   berechnen wir mit dem ursprünglichen KI-Modell eine Prognose.\n",
    "3. *Gewichtung der Eingabedaten*: Die abgeänderten Eingabedaten werden\n",
    "   gewichtet. Je ähnlicher eine Datenpunkt zur Referenz ist, desto höher ist das\n",
    "   Gewicht.\n",
    "4. *Training eines Ersatzmodells*: Wir trainieren ein einfaches, gut\n",
    "   interpretierbares Ersatzmodell (z.B. ein linares Regressionsmodell oder einen\n",
    "   Entscheidungsbaum) auf den gewichteten, leicht abgeänderten Eingabedaten. Die\n",
    "   Prognosen des ursprünglichen Modells sind dabei die Ausgabedaten.\n",
    "5. *Erklärung der Prognose*: Da das Ersatzmodell aus Schritt 4 ein\n",
    "   White-Box-Modell ist, können wir es nun benutzen, um das Black-Box-KI-Modell\n",
    "   lokal zu erklären.\n",
    "```\n",
    "\n",
    "Obwohl für das LIME-Modell, das erstmals 2016 vorgestellt wurde\n",
    "{cite}`ribeiro:2016`, ein Python-Modul namens\n",
    "[lime](https://github.com/marcotcr/lime) existiert, erstellen wir das\n",
    "LIME-Modell hier Schritt für Schritt von Grund auf, um die Funktionsweise besser\n",
    "zu verstehen.\n",
    "\n",
    "### Schritt 1: Variation der Daten\n",
    "\n",
    "Als erstes ändern wir die Merkmale des ausgewählten Referenzbeispiels leicht ab.\n",
    "Da es nur zwei mögliche Zellenformen gibt, können wir diese nicht \"leicht\"\n",
    "variieren. Daher belassen wir es bei der Zellenform `X-Zelle` und generieren\n",
    "eine Liste mit `N` Einsen. Etwas einfacher wird es, wenn wir dazu die Funktion\n",
    "`np.ones()` des Moduls `NumPy` nutzen, das wir mit der üblichen Abkürzung `np`\n",
    "importieren."
   ]
  },
  {
   "cell_type": "code",
   "execution_count": 4,
   "id": "ef4d1dbc",
   "metadata": {},
   "outputs": [],
   "source": [
    "import numpy as np\n",
    "\n",
    "N = 100\n",
    "variation_zellenform = np.ones(N)"
   ]
  },
  {
   "cell_type": "markdown",
   "id": "a9f89663",
   "metadata": {},
   "source": [
    "Anschließend möchten wir die Zellengröße und den Füllgrad leicht variieren.\n",
    "Dafür verwenden wir Zufallszahlen. Aus didaktischen Gründen fixieren wir den\n",
    "Seed der Zufallszahlen auf 42 mit `np.random.seed(42)`. Dann ziehen wir mit der\n",
    "Funktion `np.random.normal()` normalverteilte Zufallszahlen (mit Mittelwert 0\n",
    "und Standardabweichung 0.1) und addieren diese Zufallszahlen zur Zellengröße 3\n",
    "und zum Füllgrad 0.3:"
   ]
  },
  {
   "cell_type": "code",
   "execution_count": 5,
   "id": "62a0e332",
   "metadata": {},
   "outputs": [],
   "source": [
    "np.random.seed(42) \n",
    "\n",
    "variation_zellengroesse = 3.0 + np.random.normal(0, 0.5, N)\n",
    "variation_fuellgrad = 0.3 + np.random.normal(0, 0.05, N)"
   ]
  },
  {
   "cell_type": "markdown",
   "id": "e5065e03",
   "metadata": {},
   "source": [
    "Wir überprüfen visuell mit einem Streudiagramm (Scatterplot), ob die variierten\n",
    "Eingabedaten im zulässigen Bereich liegen. Die Zellengröße muss ja zwischen 2\n",
    "und 10 mm liegen, der Füllgrad im Intervall [0,1]. Dazu importieren wir das\n",
    "Modul `Plotly Express` als `px`. Der Scatterplot wird durch die Funktion\n",
    "`scatter()` erzeugt. Auf der x-Achse tragen wir mit `x=ariation_zellengroesse`\n",
    "die Zellengrößen ein und auf der y-Achse mit `y=variation_fuellgrad` die\n",
    "Füllgrade der variierten Bauteile. Zusätzlich setzen wir mi dem optionalen\n",
    "Argument `title=` noch einen Titel. Zuletzt ergänzen wir noch das\n",
    "Referenzbeispiel durch einen zweiten Scatterplot mit `add_scatter()`. Insgesamt\n",
    "fixieren wir den Ausschnitt für die x-Achse auf [1.5, 4.5] und für die y-Achse\n",
    "auf [0.15, 0.45] mit `fig.update_layout(xaxis_range=[1.5, 4.5],\n",
    "yaxis_range=[0.15,0.45])`, damit das Referenzbeispiel im Zentrum des Diagramms\n",
    "liegt."
   ]
  },
  {
   "cell_type": "code",
   "execution_count": 6,
   "id": "c3958188",
   "metadata": {},
   "outputs": [
    {
     "data": {
      "application/vnd.plotly.v1+json": {
       "config": {
        "plotlyServerURL": "https://plot.ly"
       },
       "data": [
        {
         "hovertemplate": "x=%{x}<br>y=%{y}<extra></extra>",
         "legendgroup": "",
         "marker": {
          "color": "#636efa",
          "symbol": "circle"
         },
         "mode": "markers",
         "name": "",
         "orientation": "v",
         "showlegend": false,
         "type": "scatter",
         "x": [
          3.2483570765056164,
          2.930867849414408,
          3.3238442690503462,
          3.761514928204013,
          2.882923312638332,
          2.8829315215254097,
          3.7896064077536957,
          3.3837173645764542,
          2.765262807032524,
          3.2712800217929825,
          2.768291153593769,
          2.7671351232148718,
          3.1209811357830173,
          2.043359877671101,
          2.137541083743484,
          2.718856235379514,
          2.493584439832788,
          3.157123666297637,
          2.5459879622393946,
          2.293848149332354,
          3.732824384460777,
          2.887111849756732,
          3.033764102343962,
          2.287625906893272,
          2.7278086377374087,
          3.055461294854933,
          2.4245032112888487,
          3.1878490091728358,
          2.6996806550405976,
          2.8541531251033616,
          2.6991466938853015,
          3.926139092254469,
          2.993251387631033,
          2.47114453552205,
          3.4112724560515946,
          2.389578175014489,
          3.104431797502378,
          2.020164938060112,
          2.3359069755507846,
          3.0984306179345618,
          3.3692332899977053,
          3.085684140594985,
          2.94217585880588,
          2.8494481522053556,
          2.260739004816286,
          2.6400778958026456,
          2.769680614520106,
          3.5285611131094576,
          3.1718091447842305,
          2.118479922318633,
          3.1620419846973977,
          2.8074588597918417,
          2.6615389998470205,
          3.305838144420434,
          3.5154997612479755,
          3.4656400595580994,
          2.580391238388681,
          2.8453938120743927,
          3.165631715701782,
          3.4877725635611796,
          2.760412881077355,
          2.9071705116680913,
          2.446832512996986,
          2.4018966879596646,
          3.406262911197099,
          3.6781200142854114,
          2.963994939209833,
          3.501766448946012,
          3.180818012523817,
          2.677440122697438,
          3.180697802754207,
          3.7690182832329846,
          2.982086980445024,
          3.782321827907003,
          1.6901274479551278,
          3.410951252187612,
          3.043523534119086,
          2.8504963247670663,
          3.045880388267751,
          2.006215542699554,
          2.890164056081244,
          3.178556285755873,
          3.738947022370758,
          2.7408648908631763,
          2.5957531985534064,
          2.749121478207732,
          3.457701058851037,
          3.1643755548298422,
          2.735119898116481,
          3.256633716556678,
          3.0485387746740202,
          3.4843224952664444,
          2.648973453061324,
          2.836168926701116,
          2.803945923433921,
          2.2682425259339407,
          3.148060138532288,
          3.1305276360899446,
          3.0025567283212307,
          2.882706433312426
         ],
         "xaxis": "x",
         "y": [
          0.22923146289747925,
          0.278967733861732,
          0.2828642741736615,
          0.259886136538919,
          0.2919357144166995,
          0.3202025428407269,
          0.3943092950605265,
          0.3087288906415919,
          0.3128775195361382,
          0.29627770421169164,
          0.2040614392350479,
          0.29867430622753915,
          0.30301151049705133,
          0.4231621056242643,
          0.29038195176094383,
          0.3150773671166806,
          0.2982644115147378,
          0.24156609811902338,
          0.35714114072575104,
          0.3375966516343387,
          0.33955159735215235,
          0.25453062726026304,
          0.37013971554680497,
          0.22990744686038594,
          0.3293428546900135,
          0.4095227812904989,
          0.25047318374346556,
          0.2716851135198614,
          0.304982568254382,
          0.27482621729419004,
          0.22246682844669335,
          0.30342814874030133,
          0.24688481431369474,
          0.32367962153175905,
          0.2540287882883098,
          0.377496720250877,
          0.26083733538318815,
          0.28389692418971624,
          0.34067586086848345,
          0.23845678417830224,
          0.31137299673020646,
          0.36535713771412137,
          0.2196258382719386,
          0.3092316929266152,
          0.3129941397124212,
          0.3390911435888655,
          0.2381524644560959,
          0.23397716934578616,
          0.3260970782808449,
          0.3148492336616593,
          0.31252464251729384,
          0.31732241047484877,
          0.26599876392107547,
          0.31161268485805016,
          0.31465362366493405,
          0.2642824290986816,
          0.3932887255572378,
          0.32369164604558937,
          0.24043482513986755,
          0.3328276804316915,
          0.25126591648863394,
          0.3393542301871226,
          0.3579297789503702,
          0.25896588408241444,
          0.3481688064622161,
          0.3206390463468249,
          0.3411030079997245,
          0.39483964913269737,
          0.28773059419985647,
          0.26231319178212553,
          0.25552427851872384,
          0.2592094857517281,
          0.29614491452929476,
          0.31705759874083217,
          0.31383453996650096,
          0.3413591624518012,
          0.30065009459389536,
          0.37267670385786583,
          0.2867671583381022,
          0.43600845832948093,
          0.3312833673882503,
          0.25714212217918586,
          0.24645537509694437,
          0.3241236207621593,
          0.28882686073370745,
          0.3357000247046046,
          0.32366188122867723,
          0.29635855436715636,
          0.25766031409657975,
          0.22425763876570676,
          0.27767425239664895,
          0.34281993971617364,
          0.3107046872065102,
          0.2377130610644006,
          0.3086590462925591,
          0.3192658689864418,
          0.25580712818994333,
          0.3076862552972764,
          0.3029104359223,
          0.24285148510846882
         ],
         "yaxis": "y"
        },
        {
         "name": "Referenz",
         "type": "scatter",
         "x": [
          3
         ],
         "y": [
          0.3
         ]
        }
       ],
       "layout": {
        "legend": {
         "tracegroupgap": 0
        },
        "template": {
         "data": {
          "bar": [
           {
            "error_x": {
             "color": "#2a3f5f"
            },
            "error_y": {
             "color": "#2a3f5f"
            },
            "marker": {
             "line": {
              "color": "#E5ECF6",
              "width": 0.5
             },
             "pattern": {
              "fillmode": "overlay",
              "size": 10,
              "solidity": 0.2
             }
            },
            "type": "bar"
           }
          ],
          "barpolar": [
           {
            "marker": {
             "line": {
              "color": "#E5ECF6",
              "width": 0.5
             },
             "pattern": {
              "fillmode": "overlay",
              "size": 10,
              "solidity": 0.2
             }
            },
            "type": "barpolar"
           }
          ],
          "carpet": [
           {
            "aaxis": {
             "endlinecolor": "#2a3f5f",
             "gridcolor": "white",
             "linecolor": "white",
             "minorgridcolor": "white",
             "startlinecolor": "#2a3f5f"
            },
            "baxis": {
             "endlinecolor": "#2a3f5f",
             "gridcolor": "white",
             "linecolor": "white",
             "minorgridcolor": "white",
             "startlinecolor": "#2a3f5f"
            },
            "type": "carpet"
           }
          ],
          "choropleth": [
           {
            "colorbar": {
             "outlinewidth": 0,
             "ticks": ""
            },
            "type": "choropleth"
           }
          ],
          "contour": [
           {
            "colorbar": {
             "outlinewidth": 0,
             "ticks": ""
            },
            "colorscale": [
             [
              0,
              "#0d0887"
             ],
             [
              0.1111111111111111,
              "#46039f"
             ],
             [
              0.2222222222222222,
              "#7201a8"
             ],
             [
              0.3333333333333333,
              "#9c179e"
             ],
             [
              0.4444444444444444,
              "#bd3786"
             ],
             [
              0.5555555555555556,
              "#d8576b"
             ],
             [
              0.6666666666666666,
              "#ed7953"
             ],
             [
              0.7777777777777778,
              "#fb9f3a"
             ],
             [
              0.8888888888888888,
              "#fdca26"
             ],
             [
              1,
              "#f0f921"
             ]
            ],
            "type": "contour"
           }
          ],
          "contourcarpet": [
           {
            "colorbar": {
             "outlinewidth": 0,
             "ticks": ""
            },
            "type": "contourcarpet"
           }
          ],
          "heatmap": [
           {
            "colorbar": {
             "outlinewidth": 0,
             "ticks": ""
            },
            "colorscale": [
             [
              0,
              "#0d0887"
             ],
             [
              0.1111111111111111,
              "#46039f"
             ],
             [
              0.2222222222222222,
              "#7201a8"
             ],
             [
              0.3333333333333333,
              "#9c179e"
             ],
             [
              0.4444444444444444,
              "#bd3786"
             ],
             [
              0.5555555555555556,
              "#d8576b"
             ],
             [
              0.6666666666666666,
              "#ed7953"
             ],
             [
              0.7777777777777778,
              "#fb9f3a"
             ],
             [
              0.8888888888888888,
              "#fdca26"
             ],
             [
              1,
              "#f0f921"
             ]
            ],
            "type": "heatmap"
           }
          ],
          "heatmapgl": [
           {
            "colorbar": {
             "outlinewidth": 0,
             "ticks": ""
            },
            "colorscale": [
             [
              0,
              "#0d0887"
             ],
             [
              0.1111111111111111,
              "#46039f"
             ],
             [
              0.2222222222222222,
              "#7201a8"
             ],
             [
              0.3333333333333333,
              "#9c179e"
             ],
             [
              0.4444444444444444,
              "#bd3786"
             ],
             [
              0.5555555555555556,
              "#d8576b"
             ],
             [
              0.6666666666666666,
              "#ed7953"
             ],
             [
              0.7777777777777778,
              "#fb9f3a"
             ],
             [
              0.8888888888888888,
              "#fdca26"
             ],
             [
              1,
              "#f0f921"
             ]
            ],
            "type": "heatmapgl"
           }
          ],
          "histogram": [
           {
            "marker": {
             "pattern": {
              "fillmode": "overlay",
              "size": 10,
              "solidity": 0.2
             }
            },
            "type": "histogram"
           }
          ],
          "histogram2d": [
           {
            "colorbar": {
             "outlinewidth": 0,
             "ticks": ""
            },
            "colorscale": [
             [
              0,
              "#0d0887"
             ],
             [
              0.1111111111111111,
              "#46039f"
             ],
             [
              0.2222222222222222,
              "#7201a8"
             ],
             [
              0.3333333333333333,
              "#9c179e"
             ],
             [
              0.4444444444444444,
              "#bd3786"
             ],
             [
              0.5555555555555556,
              "#d8576b"
             ],
             [
              0.6666666666666666,
              "#ed7953"
             ],
             [
              0.7777777777777778,
              "#fb9f3a"
             ],
             [
              0.8888888888888888,
              "#fdca26"
             ],
             [
              1,
              "#f0f921"
             ]
            ],
            "type": "histogram2d"
           }
          ],
          "histogram2dcontour": [
           {
            "colorbar": {
             "outlinewidth": 0,
             "ticks": ""
            },
            "colorscale": [
             [
              0,
              "#0d0887"
             ],
             [
              0.1111111111111111,
              "#46039f"
             ],
             [
              0.2222222222222222,
              "#7201a8"
             ],
             [
              0.3333333333333333,
              "#9c179e"
             ],
             [
              0.4444444444444444,
              "#bd3786"
             ],
             [
              0.5555555555555556,
              "#d8576b"
             ],
             [
              0.6666666666666666,
              "#ed7953"
             ],
             [
              0.7777777777777778,
              "#fb9f3a"
             ],
             [
              0.8888888888888888,
              "#fdca26"
             ],
             [
              1,
              "#f0f921"
             ]
            ],
            "type": "histogram2dcontour"
           }
          ],
          "mesh3d": [
           {
            "colorbar": {
             "outlinewidth": 0,
             "ticks": ""
            },
            "type": "mesh3d"
           }
          ],
          "parcoords": [
           {
            "line": {
             "colorbar": {
              "outlinewidth": 0,
              "ticks": ""
             }
            },
            "type": "parcoords"
           }
          ],
          "pie": [
           {
            "automargin": true,
            "type": "pie"
           }
          ],
          "scatter": [
           {
            "fillpattern": {
             "fillmode": "overlay",
             "size": 10,
             "solidity": 0.2
            },
            "type": "scatter"
           }
          ],
          "scatter3d": [
           {
            "line": {
             "colorbar": {
              "outlinewidth": 0,
              "ticks": ""
             }
            },
            "marker": {
             "colorbar": {
              "outlinewidth": 0,
              "ticks": ""
             }
            },
            "type": "scatter3d"
           }
          ],
          "scattercarpet": [
           {
            "marker": {
             "colorbar": {
              "outlinewidth": 0,
              "ticks": ""
             }
            },
            "type": "scattercarpet"
           }
          ],
          "scattergeo": [
           {
            "marker": {
             "colorbar": {
              "outlinewidth": 0,
              "ticks": ""
             }
            },
            "type": "scattergeo"
           }
          ],
          "scattergl": [
           {
            "marker": {
             "colorbar": {
              "outlinewidth": 0,
              "ticks": ""
             }
            },
            "type": "scattergl"
           }
          ],
          "scattermapbox": [
           {
            "marker": {
             "colorbar": {
              "outlinewidth": 0,
              "ticks": ""
             }
            },
            "type": "scattermapbox"
           }
          ],
          "scatterpolar": [
           {
            "marker": {
             "colorbar": {
              "outlinewidth": 0,
              "ticks": ""
             }
            },
            "type": "scatterpolar"
           }
          ],
          "scatterpolargl": [
           {
            "marker": {
             "colorbar": {
              "outlinewidth": 0,
              "ticks": ""
             }
            },
            "type": "scatterpolargl"
           }
          ],
          "scatterternary": [
           {
            "marker": {
             "colorbar": {
              "outlinewidth": 0,
              "ticks": ""
             }
            },
            "type": "scatterternary"
           }
          ],
          "surface": [
           {
            "colorbar": {
             "outlinewidth": 0,
             "ticks": ""
            },
            "colorscale": [
             [
              0,
              "#0d0887"
             ],
             [
              0.1111111111111111,
              "#46039f"
             ],
             [
              0.2222222222222222,
              "#7201a8"
             ],
             [
              0.3333333333333333,
              "#9c179e"
             ],
             [
              0.4444444444444444,
              "#bd3786"
             ],
             [
              0.5555555555555556,
              "#d8576b"
             ],
             [
              0.6666666666666666,
              "#ed7953"
             ],
             [
              0.7777777777777778,
              "#fb9f3a"
             ],
             [
              0.8888888888888888,
              "#fdca26"
             ],
             [
              1,
              "#f0f921"
             ]
            ],
            "type": "surface"
           }
          ],
          "table": [
           {
            "cells": {
             "fill": {
              "color": "#EBF0F8"
             },
             "line": {
              "color": "white"
             }
            },
            "header": {
             "fill": {
              "color": "#C8D4E3"
             },
             "line": {
              "color": "white"
             }
            },
            "type": "table"
           }
          ]
         },
         "layout": {
          "annotationdefaults": {
           "arrowcolor": "#2a3f5f",
           "arrowhead": 0,
           "arrowwidth": 1
          },
          "autotypenumbers": "strict",
          "coloraxis": {
           "colorbar": {
            "outlinewidth": 0,
            "ticks": ""
           }
          },
          "colorscale": {
           "diverging": [
            [
             0,
             "#8e0152"
            ],
            [
             0.1,
             "#c51b7d"
            ],
            [
             0.2,
             "#de77ae"
            ],
            [
             0.3,
             "#f1b6da"
            ],
            [
             0.4,
             "#fde0ef"
            ],
            [
             0.5,
             "#f7f7f7"
            ],
            [
             0.6,
             "#e6f5d0"
            ],
            [
             0.7,
             "#b8e186"
            ],
            [
             0.8,
             "#7fbc41"
            ],
            [
             0.9,
             "#4d9221"
            ],
            [
             1,
             "#276419"
            ]
           ],
           "sequential": [
            [
             0,
             "#0d0887"
            ],
            [
             0.1111111111111111,
             "#46039f"
            ],
            [
             0.2222222222222222,
             "#7201a8"
            ],
            [
             0.3333333333333333,
             "#9c179e"
            ],
            [
             0.4444444444444444,
             "#bd3786"
            ],
            [
             0.5555555555555556,
             "#d8576b"
            ],
            [
             0.6666666666666666,
             "#ed7953"
            ],
            [
             0.7777777777777778,
             "#fb9f3a"
            ],
            [
             0.8888888888888888,
             "#fdca26"
            ],
            [
             1,
             "#f0f921"
            ]
           ],
           "sequentialminus": [
            [
             0,
             "#0d0887"
            ],
            [
             0.1111111111111111,
             "#46039f"
            ],
            [
             0.2222222222222222,
             "#7201a8"
            ],
            [
             0.3333333333333333,
             "#9c179e"
            ],
            [
             0.4444444444444444,
             "#bd3786"
            ],
            [
             0.5555555555555556,
             "#d8576b"
            ],
            [
             0.6666666666666666,
             "#ed7953"
            ],
            [
             0.7777777777777778,
             "#fb9f3a"
            ],
            [
             0.8888888888888888,
             "#fdca26"
            ],
            [
             1,
             "#f0f921"
            ]
           ]
          },
          "colorway": [
           "#636efa",
           "#EF553B",
           "#00cc96",
           "#ab63fa",
           "#FFA15A",
           "#19d3f3",
           "#FF6692",
           "#B6E880",
           "#FF97FF",
           "#FECB52"
          ],
          "font": {
           "color": "#2a3f5f"
          },
          "geo": {
           "bgcolor": "white",
           "lakecolor": "white",
           "landcolor": "#E5ECF6",
           "showlakes": true,
           "showland": true,
           "subunitcolor": "white"
          },
          "hoverlabel": {
           "align": "left"
          },
          "hovermode": "closest",
          "mapbox": {
           "style": "light"
          },
          "paper_bgcolor": "white",
          "plot_bgcolor": "#E5ECF6",
          "polar": {
           "angularaxis": {
            "gridcolor": "white",
            "linecolor": "white",
            "ticks": ""
           },
           "bgcolor": "#E5ECF6",
           "radialaxis": {
            "gridcolor": "white",
            "linecolor": "white",
            "ticks": ""
           }
          },
          "scene": {
           "xaxis": {
            "backgroundcolor": "#E5ECF6",
            "gridcolor": "white",
            "gridwidth": 2,
            "linecolor": "white",
            "showbackground": true,
            "ticks": "",
            "zerolinecolor": "white"
           },
           "yaxis": {
            "backgroundcolor": "#E5ECF6",
            "gridcolor": "white",
            "gridwidth": 2,
            "linecolor": "white",
            "showbackground": true,
            "ticks": "",
            "zerolinecolor": "white"
           },
           "zaxis": {
            "backgroundcolor": "#E5ECF6",
            "gridcolor": "white",
            "gridwidth": 2,
            "linecolor": "white",
            "showbackground": true,
            "ticks": "",
            "zerolinecolor": "white"
           }
          },
          "shapedefaults": {
           "line": {
            "color": "#2a3f5f"
           }
          },
          "ternary": {
           "aaxis": {
            "gridcolor": "white",
            "linecolor": "white",
            "ticks": ""
           },
           "baxis": {
            "gridcolor": "white",
            "linecolor": "white",
            "ticks": ""
           },
           "bgcolor": "#E5ECF6",
           "caxis": {
            "gridcolor": "white",
            "linecolor": "white",
            "ticks": ""
           }
          },
          "title": {
           "x": 0.05
          },
          "xaxis": {
           "automargin": true,
           "gridcolor": "white",
           "linecolor": "white",
           "ticks": "",
           "title": {
            "standoff": 15
           },
           "zerolinecolor": "white",
           "zerolinewidth": 2
          },
          "yaxis": {
           "automargin": true,
           "gridcolor": "white",
           "linecolor": "white",
           "ticks": "",
           "title": {
            "standoff": 15
           },
           "zerolinecolor": "white",
           "zerolinewidth": 2
          }
         }
        },
        "title": {
         "text": "Variierte Eingabedaten um ausgewähltes Referenzbeispiel (3, 0.3)"
        },
        "xaxis": {
         "anchor": "y",
         "domain": [
          0,
          1
         ],
         "range": [
          1.5,
          4.5
         ],
         "title": {
          "text": "x"
         }
        },
        "yaxis": {
         "anchor": "x",
         "domain": [
          0,
          1
         ],
         "range": [
          0.15,
          0.45
         ],
         "title": {
          "text": "y"
         }
        }
       }
      }
     },
     "metadata": {},
     "output_type": "display_data"
    }
   ],
   "source": [
    "import plotly.express as px \n",
    "\n",
    "fig = px.scatter(x=variation_zellengroesse, y=variation_fuellgrad,\n",
    "    title='Variierte Eingabedaten um ausgewähltes Referenzbeispiel (3, 0.3)'\n",
    ")\n",
    "fig.add_scatter(x=[3.0], y=[0.3], name='Referenz')\n",
    "fig.update_layout(xaxis_range=[1.5, 4.5], yaxis_range=[0.15,0.45])\n",
    "fig.write_image('variierte_eingabedaten.svg')\n",
    "fig.show()"
   ]
  },
  {
   "cell_type": "markdown",
   "id": "3aca406f",
   "metadata": {},
   "source": [
    "Auf diese Weise erhalten wir die variierten Eingabedaten, die wir anschließend\n",
    "in einem Pandas-DataFrame zusammenfassen:"
   ]
  },
  {
   "cell_type": "code",
   "execution_count": 11,
   "id": "ed27b9f9",
   "metadata": {},
   "outputs": [],
   "source": [
    "eingabedaten = pd.DataFrame({\n",
    "    'Zellenform': variation_zellenform,\n",
    "    'Zellengroesse': variation_zellengroesse,\n",
    "    'Fuellgrad': variation_fuellgrad\n",
    "}) "
   ]
  },
  {
   "cell_type": "markdown",
   "id": "205e4605",
   "metadata": {},
   "source": [
    "### Schritt 2: Berechnung der Prognosen\n",
    "\n",
    "Die Prognosen des ursprünglichen KI-Modells lassen sich einfach mit der\n",
    "`predict()`-Methode berechnen."
   ]
  },
  {
   "cell_type": "code",
   "execution_count": 12,
   "id": "573a31b2",
   "metadata": {},
   "outputs": [],
   "source": [
    "ausgabedaten = ki_modell.predict(eingabedaten)"
   ]
  },
  {
   "cell_type": "markdown",
   "id": "31a48322",
   "metadata": {},
   "source": [
    "### Schritt 3: Gewichtung der Eingabedaten\n",
    "\n",
    "Für das LIME-Verfahren ist es wichtig, dass die variierte Eingabedaten gewichtet\n",
    "werden. Je ähnlicher ein Datenpunkt zum ausgewählten Beispiel ist, desto mehr\n",
    "Gewicht soll dieser Datenpunkt beim Training des Ersatzmodells haben. In diesem\n",
    "Beispiel verwenden wir den euklidischen Abstand, um die Ähnlichkeit der\n",
    "Eingabedaten zur Referenz zu berechnen.\n",
    "\n",
    "```{figure} pics/variierte_eingabedaten_annotated.svg\n",
    ":alt: Euklidischer Abstand zur Referenz\n",
    ":align: center\n",
    ":name: variierte_eingabedaten_annotate\n",
    "Der euklidische Abstand $r$ zur Referenz kann mit dem Satz des Pythagoras \n",
    "als $r=\\sqrt{(\\Delta x)^2 + (\\Delta y)^2}$ berechnet werden.\n",
    "(Quelle: eigene Darstellung)\n",
    "```\n",
    "\n",
    "Damit ergibt sich der folgende Python-Code zur Berechnung der Abstände."
   ]
  },
  {
   "cell_type": "code",
   "execution_count": 13,
   "id": "fe285239",
   "metadata": {},
   "outputs": [],
   "source": [
    "abstaende = ((eingabedaten['Zellengroesse'] - 3.0)**2 + (eingabedaten['Fuellgrad'] - 0.3)**2)**0.5"
   ]
  },
  {
   "cell_type": "markdown",
   "id": "0c3f45d7",
   "metadata": {},
   "source": [
    "Wie die Gewichte nun basierend auf der Ähnlichkeit der Eingabedaten zur Referenz\n",
    "gewählt werden, wird in der Forschung intensiv diskutiert. Häufig werden\n",
    "exponentielle Gewichte gewählt. Wir nehmen hier Gewichte, die linear vom Abstand\n",
    "der Eingabedaten zur Referenz abhängen. Das Gewicht soll 1 sein, wenn der\n",
    "Abstand zum ausgewählten Beispiel 0 ist. Ein schneller Check der gestörten\n",
    "Eingabedaten zeigt, dass der maximale Abstand der Eingabedaten zum\n",
    "Referenzbeispiel kleiner als 1.5 ist. Für einen Abstand von 1.5 fordern wir ein\n",
    "Gewicht von 0. Dazwischen sollen die Gewichte linear abfallen.\n",
    "\n",
    "```{figure} pics/gewichtsfunktionen.svg\n",
    ":alt: Gewichtsfunktionen\n",
    ":align: center\n",
    ":name: gewichtsfunktionen\n",
    "\n",
    "Mögliche Gewichtsfunktionen: links eine lineare Gewichtsfunktion, die so\n",
    "parametriert wurde, dass ein Abstand $r=0$ zu einem Gewicht von Eins führt und\n",
    "ab $r=1.5$ Null ist. Die rechte exponentielle Gewichtsfunktion ist ähnlich zur\n",
    "linearen Gewichtsfunktion, bietet aber den zusätzlichen Vorteil, differenzierbar\n",
    "zu sein.\n",
    "(Quelle: eigene Darstellung)\n",
    "```\n",
    "\n",
    "Mit dem folgenden Code implementieren wir die lineare Gewichtsfunktion."
   ]
  },
  {
   "cell_type": "code",
   "execution_count": 14,
   "id": "79456f28",
   "metadata": {},
   "outputs": [],
   "source": [
    "gewichte = -2/3 * abstaende + 1"
   ]
  },
  {
   "cell_type": "markdown",
   "id": "10311919",
   "metadata": {},
   "source": [
    "### Schritt 4: Training eines Ersatzmodells\n",
    "\n",
    "Häufig wird ein lineares Regressionsmodell oder ein Entscheidungsbaum verwendet,\n",
    "um ein lokal interpretierbares Modell zu erzeugen, dass das ursprüngliche\n",
    "KI-Modell erklärt. Wir werfen mit Hilfe eines Streudiagramms (Scatterplot) einen\n",
    "kurzen Blick auf die variierten Eingabedaten und die vom KI-Modell\n",
    "prognostizierten Ausgabedaten (maximale Kräfte). Auf der x-Achse tragen wir die\n",
    "Zellengrößen ein und auf der y-Achse die Füllgrade der variierten Bauteile.\n",
    "Durch die Farbe kennzeichen wir die prognostizierten maximalen Kräfte."
   ]
  },
  {
   "cell_type": "code",
   "execution_count": 15,
   "id": "8ba59e41",
   "metadata": {},
   "outputs": [
    {
     "data": {
      "application/vnd.plotly.v1+json": {
       "config": {
        "plotlyServerURL": "https://plot.ly"
       },
       "data": [
        {
         "hovertemplate": "Zellengroesse=%{x}<br>Fuellgrad=%{y}<br>maximale Kraft [N]=%{marker.color}<extra></extra>",
         "legendgroup": "",
         "marker": {
          "color": [
           13.579004999999995,
           30.992710000000024,
           30.30935000000003,
           22.10348324999999,
           40.66428499999997,
           44.93902499999997,
           125.5529306428571,
           39.93772500000001,
           43.987844999999965,
           39.49202500000003,
           9.009723000000001,
           42.65335499999996,
           42.067874999999965,
           151.5797646428573,
           41.39463499999998,
           45.08422499999997,
           42.41728499999997,
           20.750142249999982,
           91.96598999999983,
           80.17268999999986,
           73.88834999999986,
           20.872002249999976,
           112.82289999999983,
           13.910144999999995,
           73.46924999999985,
           142.38654564285721,
           21.403182249999986,
           31.047420000000024,
           42.65335499999996,
           31.442370000000025,
           11.694749999999997,
           39.55241500000004,
           20.750142249999982,
           45.08776499999999,
           19.67632224999998,
           124.29902464285703,
           24.78779125,
           32.195350000000026,
           82.24595999999987,
           17.373774999999988,
           41.648955000000015,
           112.75595999999983,
           11.429429999999995,
           42.82174499999994,
           43.819034999999964,
           76.32713999999986,
           16.96046499999999,
           12.765314999999996,
           71.59649999999986,
           43.819034999999964,
           43.40236499999996,
           45.08422499999997,
           30.086531250000018,
           41.648955000000015,
           41.648955000000015,
           23.409141249999998,
           122.4465146428571,
           45.25657499999997,
           20.750142249999982,
           71.63663999999986,
           20.774772249999977,
           75.07577999999985,
           91.96598999999983,
           25.10255125,
           82.7692199999998,
           43.59470500000001,
           77.34770999999984,
           123.48760564285705,
           37.34115999999999,
           24.95849125,
           24.302751249999996,
           22.10348324999999,
           42.335804999999965,
           43.30049500000002,
           43.819034999999964,
           76.43543999999984,
           42.335804999999965,
           104.04954999999984,
           37.609089999999995,
           151.5797646428573,
           72.35744999999986,
           24.302751249999996,
           18.45394424999998,
           45.25657499999997,
           38.33736999999999,
           76.32713999999986,
           43.06673500000001,
           42.067874999999965,
           24.473451249999997,
           11.221499999999994,
           30.992710000000024,
           76.43543999999984,
           43.987844999999965,
           17.373774999999988,
           42.82174499999994,
           44.91541499999998,
           24.302751249999996,
           42.23626499999996,
           42.335804999999965,
           20.750142249999982
          ],
          "coloraxis": "coloraxis",
          "symbol": "circle"
         },
         "mode": "markers",
         "name": "",
         "orientation": "v",
         "showlegend": false,
         "type": "scatter",
         "x": [
          3.2483570765056164,
          2.930867849414408,
          3.3238442690503462,
          3.761514928204013,
          2.882923312638332,
          2.8829315215254097,
          3.7896064077536957,
          3.3837173645764542,
          2.765262807032524,
          3.2712800217929825,
          2.768291153593769,
          2.7671351232148718,
          3.1209811357830173,
          2.043359877671101,
          2.137541083743484,
          2.718856235379514,
          2.493584439832788,
          3.157123666297637,
          2.5459879622393946,
          2.293848149332354,
          3.732824384460777,
          2.887111849756732,
          3.033764102343962,
          2.287625906893272,
          2.7278086377374087,
          3.055461294854933,
          2.4245032112888487,
          3.1878490091728358,
          2.6996806550405976,
          2.8541531251033616,
          2.6991466938853015,
          3.926139092254469,
          2.993251387631033,
          2.47114453552205,
          3.4112724560515946,
          2.389578175014489,
          3.104431797502378,
          2.020164938060112,
          2.3359069755507846,
          3.0984306179345618,
          3.3692332899977053,
          3.085684140594985,
          2.94217585880588,
          2.8494481522053556,
          2.260739004816286,
          2.6400778958026456,
          2.769680614520106,
          3.5285611131094576,
          3.1718091447842305,
          2.118479922318633,
          3.1620419846973977,
          2.8074588597918417,
          2.6615389998470205,
          3.305838144420434,
          3.5154997612479755,
          3.4656400595580994,
          2.580391238388681,
          2.8453938120743927,
          3.165631715701782,
          3.4877725635611796,
          2.760412881077355,
          2.9071705116680913,
          2.446832512996986,
          2.4018966879596646,
          3.406262911197099,
          3.6781200142854114,
          2.963994939209833,
          3.501766448946012,
          3.180818012523817,
          2.677440122697438,
          3.180697802754207,
          3.7690182832329846,
          2.982086980445024,
          3.782321827907003,
          1.6901274479551278,
          3.410951252187612,
          3.043523534119086,
          2.8504963247670663,
          3.045880388267751,
          2.006215542699554,
          2.890164056081244,
          3.178556285755873,
          3.738947022370758,
          2.7408648908631763,
          2.5957531985534064,
          2.749121478207732,
          3.457701058851037,
          3.1643755548298422,
          2.735119898116481,
          3.256633716556678,
          3.0485387746740202,
          3.4843224952664444,
          2.648973453061324,
          2.836168926701116,
          2.803945923433921,
          2.2682425259339407,
          3.148060138532288,
          3.1305276360899446,
          3.0025567283212307,
          2.882706433312426
         ],
         "xaxis": "x",
         "y": [
          0.22923146289747925,
          0.278967733861732,
          0.2828642741736615,
          0.259886136538919,
          0.2919357144166995,
          0.3202025428407269,
          0.3943092950605265,
          0.3087288906415919,
          0.3128775195361382,
          0.29627770421169164,
          0.2040614392350479,
          0.29867430622753915,
          0.30301151049705133,
          0.4231621056242643,
          0.29038195176094383,
          0.3150773671166806,
          0.2982644115147378,
          0.24156609811902338,
          0.35714114072575104,
          0.3375966516343387,
          0.33955159735215235,
          0.25453062726026304,
          0.37013971554680497,
          0.22990744686038594,
          0.3293428546900135,
          0.4095227812904989,
          0.25047318374346556,
          0.2716851135198614,
          0.304982568254382,
          0.27482621729419004,
          0.22246682844669335,
          0.30342814874030133,
          0.24688481431369474,
          0.32367962153175905,
          0.2540287882883098,
          0.377496720250877,
          0.26083733538318815,
          0.28389692418971624,
          0.34067586086848345,
          0.23845678417830224,
          0.31137299673020646,
          0.36535713771412137,
          0.2196258382719386,
          0.3092316929266152,
          0.3129941397124212,
          0.3390911435888655,
          0.2381524644560959,
          0.23397716934578616,
          0.3260970782808449,
          0.3148492336616593,
          0.31252464251729384,
          0.31732241047484877,
          0.26599876392107547,
          0.31161268485805016,
          0.31465362366493405,
          0.2642824290986816,
          0.3932887255572378,
          0.32369164604558937,
          0.24043482513986755,
          0.3328276804316915,
          0.25126591648863394,
          0.3393542301871226,
          0.3579297789503702,
          0.25896588408241444,
          0.3481688064622161,
          0.3206390463468249,
          0.3411030079997245,
          0.39483964913269737,
          0.28773059419985647,
          0.26231319178212553,
          0.25552427851872384,
          0.2592094857517281,
          0.29614491452929476,
          0.31705759874083217,
          0.31383453996650096,
          0.3413591624518012,
          0.30065009459389536,
          0.37267670385786583,
          0.2867671583381022,
          0.43600845832948093,
          0.3312833673882503,
          0.25714212217918586,
          0.24645537509694437,
          0.3241236207621593,
          0.28882686073370745,
          0.3357000247046046,
          0.32366188122867723,
          0.29635855436715636,
          0.25766031409657975,
          0.22425763876570676,
          0.27767425239664895,
          0.34281993971617364,
          0.3107046872065102,
          0.2377130610644006,
          0.3086590462925591,
          0.3192658689864418,
          0.25580712818994333,
          0.3076862552972764,
          0.3029104359223,
          0.24285148510846882
         ],
         "yaxis": "y"
        }
       ],
       "layout": {
        "coloraxis": {
         "colorbar": {
          "title": {
           "text": "maximale Kraft [N]"
          }
         },
         "colorscale": [
          [
           0,
           "#0d0887"
          ],
          [
           0.1111111111111111,
           "#46039f"
          ],
          [
           0.2222222222222222,
           "#7201a8"
          ],
          [
           0.3333333333333333,
           "#9c179e"
          ],
          [
           0.4444444444444444,
           "#bd3786"
          ],
          [
           0.5555555555555556,
           "#d8576b"
          ],
          [
           0.6666666666666666,
           "#ed7953"
          ],
          [
           0.7777777777777778,
           "#fb9f3a"
          ],
          [
           0.8888888888888888,
           "#fdca26"
          ],
          [
           1,
           "#f0f921"
          ]
         ]
        },
        "legend": {
         "tracegroupgap": 0
        },
        "template": {
         "data": {
          "bar": [
           {
            "error_x": {
             "color": "#2a3f5f"
            },
            "error_y": {
             "color": "#2a3f5f"
            },
            "marker": {
             "line": {
              "color": "#E5ECF6",
              "width": 0.5
             },
             "pattern": {
              "fillmode": "overlay",
              "size": 10,
              "solidity": 0.2
             }
            },
            "type": "bar"
           }
          ],
          "barpolar": [
           {
            "marker": {
             "line": {
              "color": "#E5ECF6",
              "width": 0.5
             },
             "pattern": {
              "fillmode": "overlay",
              "size": 10,
              "solidity": 0.2
             }
            },
            "type": "barpolar"
           }
          ],
          "carpet": [
           {
            "aaxis": {
             "endlinecolor": "#2a3f5f",
             "gridcolor": "white",
             "linecolor": "white",
             "minorgridcolor": "white",
             "startlinecolor": "#2a3f5f"
            },
            "baxis": {
             "endlinecolor": "#2a3f5f",
             "gridcolor": "white",
             "linecolor": "white",
             "minorgridcolor": "white",
             "startlinecolor": "#2a3f5f"
            },
            "type": "carpet"
           }
          ],
          "choropleth": [
           {
            "colorbar": {
             "outlinewidth": 0,
             "ticks": ""
            },
            "type": "choropleth"
           }
          ],
          "contour": [
           {
            "colorbar": {
             "outlinewidth": 0,
             "ticks": ""
            },
            "colorscale": [
             [
              0,
              "#0d0887"
             ],
             [
              0.1111111111111111,
              "#46039f"
             ],
             [
              0.2222222222222222,
              "#7201a8"
             ],
             [
              0.3333333333333333,
              "#9c179e"
             ],
             [
              0.4444444444444444,
              "#bd3786"
             ],
             [
              0.5555555555555556,
              "#d8576b"
             ],
             [
              0.6666666666666666,
              "#ed7953"
             ],
             [
              0.7777777777777778,
              "#fb9f3a"
             ],
             [
              0.8888888888888888,
              "#fdca26"
             ],
             [
              1,
              "#f0f921"
             ]
            ],
            "type": "contour"
           }
          ],
          "contourcarpet": [
           {
            "colorbar": {
             "outlinewidth": 0,
             "ticks": ""
            },
            "type": "contourcarpet"
           }
          ],
          "heatmap": [
           {
            "colorbar": {
             "outlinewidth": 0,
             "ticks": ""
            },
            "colorscale": [
             [
              0,
              "#0d0887"
             ],
             [
              0.1111111111111111,
              "#46039f"
             ],
             [
              0.2222222222222222,
              "#7201a8"
             ],
             [
              0.3333333333333333,
              "#9c179e"
             ],
             [
              0.4444444444444444,
              "#bd3786"
             ],
             [
              0.5555555555555556,
              "#d8576b"
             ],
             [
              0.6666666666666666,
              "#ed7953"
             ],
             [
              0.7777777777777778,
              "#fb9f3a"
             ],
             [
              0.8888888888888888,
              "#fdca26"
             ],
             [
              1,
              "#f0f921"
             ]
            ],
            "type": "heatmap"
           }
          ],
          "heatmapgl": [
           {
            "colorbar": {
             "outlinewidth": 0,
             "ticks": ""
            },
            "colorscale": [
             [
              0,
              "#0d0887"
             ],
             [
              0.1111111111111111,
              "#46039f"
             ],
             [
              0.2222222222222222,
              "#7201a8"
             ],
             [
              0.3333333333333333,
              "#9c179e"
             ],
             [
              0.4444444444444444,
              "#bd3786"
             ],
             [
              0.5555555555555556,
              "#d8576b"
             ],
             [
              0.6666666666666666,
              "#ed7953"
             ],
             [
              0.7777777777777778,
              "#fb9f3a"
             ],
             [
              0.8888888888888888,
              "#fdca26"
             ],
             [
              1,
              "#f0f921"
             ]
            ],
            "type": "heatmapgl"
           }
          ],
          "histogram": [
           {
            "marker": {
             "pattern": {
              "fillmode": "overlay",
              "size": 10,
              "solidity": 0.2
             }
            },
            "type": "histogram"
           }
          ],
          "histogram2d": [
           {
            "colorbar": {
             "outlinewidth": 0,
             "ticks": ""
            },
            "colorscale": [
             [
              0,
              "#0d0887"
             ],
             [
              0.1111111111111111,
              "#46039f"
             ],
             [
              0.2222222222222222,
              "#7201a8"
             ],
             [
              0.3333333333333333,
              "#9c179e"
             ],
             [
              0.4444444444444444,
              "#bd3786"
             ],
             [
              0.5555555555555556,
              "#d8576b"
             ],
             [
              0.6666666666666666,
              "#ed7953"
             ],
             [
              0.7777777777777778,
              "#fb9f3a"
             ],
             [
              0.8888888888888888,
              "#fdca26"
             ],
             [
              1,
              "#f0f921"
             ]
            ],
            "type": "histogram2d"
           }
          ],
          "histogram2dcontour": [
           {
            "colorbar": {
             "outlinewidth": 0,
             "ticks": ""
            },
            "colorscale": [
             [
              0,
              "#0d0887"
             ],
             [
              0.1111111111111111,
              "#46039f"
             ],
             [
              0.2222222222222222,
              "#7201a8"
             ],
             [
              0.3333333333333333,
              "#9c179e"
             ],
             [
              0.4444444444444444,
              "#bd3786"
             ],
             [
              0.5555555555555556,
              "#d8576b"
             ],
             [
              0.6666666666666666,
              "#ed7953"
             ],
             [
              0.7777777777777778,
              "#fb9f3a"
             ],
             [
              0.8888888888888888,
              "#fdca26"
             ],
             [
              1,
              "#f0f921"
             ]
            ],
            "type": "histogram2dcontour"
           }
          ],
          "mesh3d": [
           {
            "colorbar": {
             "outlinewidth": 0,
             "ticks": ""
            },
            "type": "mesh3d"
           }
          ],
          "parcoords": [
           {
            "line": {
             "colorbar": {
              "outlinewidth": 0,
              "ticks": ""
             }
            },
            "type": "parcoords"
           }
          ],
          "pie": [
           {
            "automargin": true,
            "type": "pie"
           }
          ],
          "scatter": [
           {
            "fillpattern": {
             "fillmode": "overlay",
             "size": 10,
             "solidity": 0.2
            },
            "type": "scatter"
           }
          ],
          "scatter3d": [
           {
            "line": {
             "colorbar": {
              "outlinewidth": 0,
              "ticks": ""
             }
            },
            "marker": {
             "colorbar": {
              "outlinewidth": 0,
              "ticks": ""
             }
            },
            "type": "scatter3d"
           }
          ],
          "scattercarpet": [
           {
            "marker": {
             "colorbar": {
              "outlinewidth": 0,
              "ticks": ""
             }
            },
            "type": "scattercarpet"
           }
          ],
          "scattergeo": [
           {
            "marker": {
             "colorbar": {
              "outlinewidth": 0,
              "ticks": ""
             }
            },
            "type": "scattergeo"
           }
          ],
          "scattergl": [
           {
            "marker": {
             "colorbar": {
              "outlinewidth": 0,
              "ticks": ""
             }
            },
            "type": "scattergl"
           }
          ],
          "scattermapbox": [
           {
            "marker": {
             "colorbar": {
              "outlinewidth": 0,
              "ticks": ""
             }
            },
            "type": "scattermapbox"
           }
          ],
          "scatterpolar": [
           {
            "marker": {
             "colorbar": {
              "outlinewidth": 0,
              "ticks": ""
             }
            },
            "type": "scatterpolar"
           }
          ],
          "scatterpolargl": [
           {
            "marker": {
             "colorbar": {
              "outlinewidth": 0,
              "ticks": ""
             }
            },
            "type": "scatterpolargl"
           }
          ],
          "scatterternary": [
           {
            "marker": {
             "colorbar": {
              "outlinewidth": 0,
              "ticks": ""
             }
            },
            "type": "scatterternary"
           }
          ],
          "surface": [
           {
            "colorbar": {
             "outlinewidth": 0,
             "ticks": ""
            },
            "colorscale": [
             [
              0,
              "#0d0887"
             ],
             [
              0.1111111111111111,
              "#46039f"
             ],
             [
              0.2222222222222222,
              "#7201a8"
             ],
             [
              0.3333333333333333,
              "#9c179e"
             ],
             [
              0.4444444444444444,
              "#bd3786"
             ],
             [
              0.5555555555555556,
              "#d8576b"
             ],
             [
              0.6666666666666666,
              "#ed7953"
             ],
             [
              0.7777777777777778,
              "#fb9f3a"
             ],
             [
              0.8888888888888888,
              "#fdca26"
             ],
             [
              1,
              "#f0f921"
             ]
            ],
            "type": "surface"
           }
          ],
          "table": [
           {
            "cells": {
             "fill": {
              "color": "#EBF0F8"
             },
             "line": {
              "color": "white"
             }
            },
            "header": {
             "fill": {
              "color": "#C8D4E3"
             },
             "line": {
              "color": "white"
             }
            },
            "type": "table"
           }
          ]
         },
         "layout": {
          "annotationdefaults": {
           "arrowcolor": "#2a3f5f",
           "arrowhead": 0,
           "arrowwidth": 1
          },
          "autotypenumbers": "strict",
          "coloraxis": {
           "colorbar": {
            "outlinewidth": 0,
            "ticks": ""
           }
          },
          "colorscale": {
           "diverging": [
            [
             0,
             "#8e0152"
            ],
            [
             0.1,
             "#c51b7d"
            ],
            [
             0.2,
             "#de77ae"
            ],
            [
             0.3,
             "#f1b6da"
            ],
            [
             0.4,
             "#fde0ef"
            ],
            [
             0.5,
             "#f7f7f7"
            ],
            [
             0.6,
             "#e6f5d0"
            ],
            [
             0.7,
             "#b8e186"
            ],
            [
             0.8,
             "#7fbc41"
            ],
            [
             0.9,
             "#4d9221"
            ],
            [
             1,
             "#276419"
            ]
           ],
           "sequential": [
            [
             0,
             "#0d0887"
            ],
            [
             0.1111111111111111,
             "#46039f"
            ],
            [
             0.2222222222222222,
             "#7201a8"
            ],
            [
             0.3333333333333333,
             "#9c179e"
            ],
            [
             0.4444444444444444,
             "#bd3786"
            ],
            [
             0.5555555555555556,
             "#d8576b"
            ],
            [
             0.6666666666666666,
             "#ed7953"
            ],
            [
             0.7777777777777778,
             "#fb9f3a"
            ],
            [
             0.8888888888888888,
             "#fdca26"
            ],
            [
             1,
             "#f0f921"
            ]
           ],
           "sequentialminus": [
            [
             0,
             "#0d0887"
            ],
            [
             0.1111111111111111,
             "#46039f"
            ],
            [
             0.2222222222222222,
             "#7201a8"
            ],
            [
             0.3333333333333333,
             "#9c179e"
            ],
            [
             0.4444444444444444,
             "#bd3786"
            ],
            [
             0.5555555555555556,
             "#d8576b"
            ],
            [
             0.6666666666666666,
             "#ed7953"
            ],
            [
             0.7777777777777778,
             "#fb9f3a"
            ],
            [
             0.8888888888888888,
             "#fdca26"
            ],
            [
             1,
             "#f0f921"
            ]
           ]
          },
          "colorway": [
           "#636efa",
           "#EF553B",
           "#00cc96",
           "#ab63fa",
           "#FFA15A",
           "#19d3f3",
           "#FF6692",
           "#B6E880",
           "#FF97FF",
           "#FECB52"
          ],
          "font": {
           "color": "#2a3f5f"
          },
          "geo": {
           "bgcolor": "white",
           "lakecolor": "white",
           "landcolor": "#E5ECF6",
           "showlakes": true,
           "showland": true,
           "subunitcolor": "white"
          },
          "hoverlabel": {
           "align": "left"
          },
          "hovermode": "closest",
          "mapbox": {
           "style": "light"
          },
          "paper_bgcolor": "white",
          "plot_bgcolor": "#E5ECF6",
          "polar": {
           "angularaxis": {
            "gridcolor": "white",
            "linecolor": "white",
            "ticks": ""
           },
           "bgcolor": "#E5ECF6",
           "radialaxis": {
            "gridcolor": "white",
            "linecolor": "white",
            "ticks": ""
           }
          },
          "scene": {
           "xaxis": {
            "backgroundcolor": "#E5ECF6",
            "gridcolor": "white",
            "gridwidth": 2,
            "linecolor": "white",
            "showbackground": true,
            "ticks": "",
            "zerolinecolor": "white"
           },
           "yaxis": {
            "backgroundcolor": "#E5ECF6",
            "gridcolor": "white",
            "gridwidth": 2,
            "linecolor": "white",
            "showbackground": true,
            "ticks": "",
            "zerolinecolor": "white"
           },
           "zaxis": {
            "backgroundcolor": "#E5ECF6",
            "gridcolor": "white",
            "gridwidth": 2,
            "linecolor": "white",
            "showbackground": true,
            "ticks": "",
            "zerolinecolor": "white"
           }
          },
          "shapedefaults": {
           "line": {
            "color": "#2a3f5f"
           }
          },
          "ternary": {
           "aaxis": {
            "gridcolor": "white",
            "linecolor": "white",
            "ticks": ""
           },
           "baxis": {
            "gridcolor": "white",
            "linecolor": "white",
            "ticks": ""
           },
           "bgcolor": "#E5ECF6",
           "caxis": {
            "gridcolor": "white",
            "linecolor": "white",
            "ticks": ""
           }
          },
          "title": {
           "x": 0.05
          },
          "xaxis": {
           "automargin": true,
           "gridcolor": "white",
           "linecolor": "white",
           "ticks": "",
           "title": {
            "standoff": 15
           },
           "zerolinecolor": "white",
           "zerolinewidth": 2
          },
          "yaxis": {
           "automargin": true,
           "gridcolor": "white",
           "linecolor": "white",
           "ticks": "",
           "title": {
            "standoff": 15
           },
           "zerolinecolor": "white",
           "zerolinewidth": 2
          }
         }
        },
        "title": {
         "text": "Variierte Eingabedaten und dazugehörige Prognosen"
        },
        "xaxis": {
         "anchor": "y",
         "domain": [
          0,
          1
         ],
         "range": [
          1.5,
          4.5
         ],
         "title": {
          "text": "Zellengroesse"
         }
        },
        "yaxis": {
         "anchor": "x",
         "domain": [
          0,
          1
         ],
         "range": [
          0.15,
          0.45
         ],
         "title": {
          "text": "Fuellgrad"
         }
        }
       }
      }
     },
     "metadata": {},
     "output_type": "display_data"
    }
   ],
   "source": [
    "fig = px.scatter( eingabedaten, x='Zellengroesse', y='Fuellgrad', color=ausgabedaten,\n",
    "    title='Variierte Eingabedaten und dazugehörige Prognosen', \n",
    "    labels={'color': 'maximale Kraft [N]'}\n",
    ")\n",
    "fig.update_layout(xaxis_range=[1.5, 4.5], yaxis_range=[0.15,0.45])\n",
    "\n",
    "fig.show()"
   ]
  },
  {
   "cell_type": "markdown",
   "id": "982fa70a",
   "metadata": {},
   "source": [
    "Scheinbar ist vor allem der Füllgrad entscheidend für die Prognose der maximalen\n",
    "Kraft. Wir visualisieren daher die Prognosen der maximalen Kräfte abhängig vom\n",
    "Füllgrad."
   ]
  },
  {
   "cell_type": "code",
   "execution_count": 16,
   "id": "65de97bd",
   "metadata": {},
   "outputs": [
    {
     "data": {
      "application/vnd.plotly.v1+json": {
       "config": {
        "plotlyServerURL": "https://plot.ly"
       },
       "data": [
        {
         "hovertemplate": "Fuellgrad=%{x}<br>maximale Kraft[N]=%{y}<extra></extra>",
         "legendgroup": "",
         "marker": {
          "color": "#636efa",
          "symbol": "circle"
         },
         "mode": "markers",
         "name": "",
         "orientation": "v",
         "showlegend": false,
         "type": "scatter",
         "x": [
          0.22923146289747925,
          0.278967733861732,
          0.2828642741736615,
          0.259886136538919,
          0.2919357144166995,
          0.3202025428407269,
          0.3943092950605265,
          0.3087288906415919,
          0.3128775195361382,
          0.29627770421169164,
          0.2040614392350479,
          0.29867430622753915,
          0.30301151049705133,
          0.4231621056242643,
          0.29038195176094383,
          0.3150773671166806,
          0.2982644115147378,
          0.24156609811902338,
          0.35714114072575104,
          0.3375966516343387,
          0.33955159735215235,
          0.25453062726026304,
          0.37013971554680497,
          0.22990744686038594,
          0.3293428546900135,
          0.4095227812904989,
          0.25047318374346556,
          0.2716851135198614,
          0.304982568254382,
          0.27482621729419004,
          0.22246682844669335,
          0.30342814874030133,
          0.24688481431369474,
          0.32367962153175905,
          0.2540287882883098,
          0.377496720250877,
          0.26083733538318815,
          0.28389692418971624,
          0.34067586086848345,
          0.23845678417830224,
          0.31137299673020646,
          0.36535713771412137,
          0.2196258382719386,
          0.3092316929266152,
          0.3129941397124212,
          0.3390911435888655,
          0.2381524644560959,
          0.23397716934578616,
          0.3260970782808449,
          0.3148492336616593,
          0.31252464251729384,
          0.31732241047484877,
          0.26599876392107547,
          0.31161268485805016,
          0.31465362366493405,
          0.2642824290986816,
          0.3932887255572378,
          0.32369164604558937,
          0.24043482513986755,
          0.3328276804316915,
          0.25126591648863394,
          0.3393542301871226,
          0.3579297789503702,
          0.25896588408241444,
          0.3481688064622161,
          0.3206390463468249,
          0.3411030079997245,
          0.39483964913269737,
          0.28773059419985647,
          0.26231319178212553,
          0.25552427851872384,
          0.2592094857517281,
          0.29614491452929476,
          0.31705759874083217,
          0.31383453996650096,
          0.3413591624518012,
          0.30065009459389536,
          0.37267670385786583,
          0.2867671583381022,
          0.43600845832948093,
          0.3312833673882503,
          0.25714212217918586,
          0.24645537509694437,
          0.3241236207621593,
          0.28882686073370745,
          0.3357000247046046,
          0.32366188122867723,
          0.29635855436715636,
          0.25766031409657975,
          0.22425763876570676,
          0.27767425239664895,
          0.34281993971617364,
          0.3107046872065102,
          0.2377130610644006,
          0.3086590462925591,
          0.3192658689864418,
          0.25580712818994333,
          0.3076862552972764,
          0.3029104359223,
          0.24285148510846882
         ],
         "xaxis": "x",
         "y": [
          13.579004999999995,
          30.992710000000024,
          30.30935000000003,
          22.10348324999999,
          40.66428499999997,
          44.93902499999997,
          125.5529306428571,
          39.93772500000001,
          43.987844999999965,
          39.49202500000003,
          9.009723000000001,
          42.65335499999996,
          42.067874999999965,
          151.5797646428573,
          41.39463499999998,
          45.08422499999997,
          42.41728499999997,
          20.750142249999982,
          91.96598999999983,
          80.17268999999986,
          73.88834999999986,
          20.872002249999976,
          112.82289999999983,
          13.910144999999995,
          73.46924999999985,
          142.38654564285721,
          21.403182249999986,
          31.047420000000024,
          42.65335499999996,
          31.442370000000025,
          11.694749999999997,
          39.55241500000004,
          20.750142249999982,
          45.08776499999999,
          19.67632224999998,
          124.29902464285703,
          24.78779125,
          32.195350000000026,
          82.24595999999987,
          17.373774999999988,
          41.648955000000015,
          112.75595999999983,
          11.429429999999995,
          42.82174499999994,
          43.819034999999964,
          76.32713999999986,
          16.96046499999999,
          12.765314999999996,
          71.59649999999986,
          43.819034999999964,
          43.40236499999996,
          45.08422499999997,
          30.086531250000018,
          41.648955000000015,
          41.648955000000015,
          23.409141249999998,
          122.4465146428571,
          45.25657499999997,
          20.750142249999982,
          71.63663999999986,
          20.774772249999977,
          75.07577999999985,
          91.96598999999983,
          25.10255125,
          82.7692199999998,
          43.59470500000001,
          77.34770999999984,
          123.48760564285705,
          37.34115999999999,
          24.95849125,
          24.302751249999996,
          22.10348324999999,
          42.335804999999965,
          43.30049500000002,
          43.819034999999964,
          76.43543999999984,
          42.335804999999965,
          104.04954999999984,
          37.609089999999995,
          151.5797646428573,
          72.35744999999986,
          24.302751249999996,
          18.45394424999998,
          45.25657499999997,
          38.33736999999999,
          76.32713999999986,
          43.06673500000001,
          42.067874999999965,
          24.473451249999997,
          11.221499999999994,
          30.992710000000024,
          76.43543999999984,
          43.987844999999965,
          17.373774999999988,
          42.82174499999994,
          44.91541499999998,
          24.302751249999996,
          42.23626499999996,
          42.335804999999965,
          20.750142249999982
         ],
         "yaxis": "y"
        }
       ],
       "layout": {
        "legend": {
         "tracegroupgap": 0
        },
        "template": {
         "data": {
          "bar": [
           {
            "error_x": {
             "color": "#2a3f5f"
            },
            "error_y": {
             "color": "#2a3f5f"
            },
            "marker": {
             "line": {
              "color": "#E5ECF6",
              "width": 0.5
             },
             "pattern": {
              "fillmode": "overlay",
              "size": 10,
              "solidity": 0.2
             }
            },
            "type": "bar"
           }
          ],
          "barpolar": [
           {
            "marker": {
             "line": {
              "color": "#E5ECF6",
              "width": 0.5
             },
             "pattern": {
              "fillmode": "overlay",
              "size": 10,
              "solidity": 0.2
             }
            },
            "type": "barpolar"
           }
          ],
          "carpet": [
           {
            "aaxis": {
             "endlinecolor": "#2a3f5f",
             "gridcolor": "white",
             "linecolor": "white",
             "minorgridcolor": "white",
             "startlinecolor": "#2a3f5f"
            },
            "baxis": {
             "endlinecolor": "#2a3f5f",
             "gridcolor": "white",
             "linecolor": "white",
             "minorgridcolor": "white",
             "startlinecolor": "#2a3f5f"
            },
            "type": "carpet"
           }
          ],
          "choropleth": [
           {
            "colorbar": {
             "outlinewidth": 0,
             "ticks": ""
            },
            "type": "choropleth"
           }
          ],
          "contour": [
           {
            "colorbar": {
             "outlinewidth": 0,
             "ticks": ""
            },
            "colorscale": [
             [
              0,
              "#0d0887"
             ],
             [
              0.1111111111111111,
              "#46039f"
             ],
             [
              0.2222222222222222,
              "#7201a8"
             ],
             [
              0.3333333333333333,
              "#9c179e"
             ],
             [
              0.4444444444444444,
              "#bd3786"
             ],
             [
              0.5555555555555556,
              "#d8576b"
             ],
             [
              0.6666666666666666,
              "#ed7953"
             ],
             [
              0.7777777777777778,
              "#fb9f3a"
             ],
             [
              0.8888888888888888,
              "#fdca26"
             ],
             [
              1,
              "#f0f921"
             ]
            ],
            "type": "contour"
           }
          ],
          "contourcarpet": [
           {
            "colorbar": {
             "outlinewidth": 0,
             "ticks": ""
            },
            "type": "contourcarpet"
           }
          ],
          "heatmap": [
           {
            "colorbar": {
             "outlinewidth": 0,
             "ticks": ""
            },
            "colorscale": [
             [
              0,
              "#0d0887"
             ],
             [
              0.1111111111111111,
              "#46039f"
             ],
             [
              0.2222222222222222,
              "#7201a8"
             ],
             [
              0.3333333333333333,
              "#9c179e"
             ],
             [
              0.4444444444444444,
              "#bd3786"
             ],
             [
              0.5555555555555556,
              "#d8576b"
             ],
             [
              0.6666666666666666,
              "#ed7953"
             ],
             [
              0.7777777777777778,
              "#fb9f3a"
             ],
             [
              0.8888888888888888,
              "#fdca26"
             ],
             [
              1,
              "#f0f921"
             ]
            ],
            "type": "heatmap"
           }
          ],
          "heatmapgl": [
           {
            "colorbar": {
             "outlinewidth": 0,
             "ticks": ""
            },
            "colorscale": [
             [
              0,
              "#0d0887"
             ],
             [
              0.1111111111111111,
              "#46039f"
             ],
             [
              0.2222222222222222,
              "#7201a8"
             ],
             [
              0.3333333333333333,
              "#9c179e"
             ],
             [
              0.4444444444444444,
              "#bd3786"
             ],
             [
              0.5555555555555556,
              "#d8576b"
             ],
             [
              0.6666666666666666,
              "#ed7953"
             ],
             [
              0.7777777777777778,
              "#fb9f3a"
             ],
             [
              0.8888888888888888,
              "#fdca26"
             ],
             [
              1,
              "#f0f921"
             ]
            ],
            "type": "heatmapgl"
           }
          ],
          "histogram": [
           {
            "marker": {
             "pattern": {
              "fillmode": "overlay",
              "size": 10,
              "solidity": 0.2
             }
            },
            "type": "histogram"
           }
          ],
          "histogram2d": [
           {
            "colorbar": {
             "outlinewidth": 0,
             "ticks": ""
            },
            "colorscale": [
             [
              0,
              "#0d0887"
             ],
             [
              0.1111111111111111,
              "#46039f"
             ],
             [
              0.2222222222222222,
              "#7201a8"
             ],
             [
              0.3333333333333333,
              "#9c179e"
             ],
             [
              0.4444444444444444,
              "#bd3786"
             ],
             [
              0.5555555555555556,
              "#d8576b"
             ],
             [
              0.6666666666666666,
              "#ed7953"
             ],
             [
              0.7777777777777778,
              "#fb9f3a"
             ],
             [
              0.8888888888888888,
              "#fdca26"
             ],
             [
              1,
              "#f0f921"
             ]
            ],
            "type": "histogram2d"
           }
          ],
          "histogram2dcontour": [
           {
            "colorbar": {
             "outlinewidth": 0,
             "ticks": ""
            },
            "colorscale": [
             [
              0,
              "#0d0887"
             ],
             [
              0.1111111111111111,
              "#46039f"
             ],
             [
              0.2222222222222222,
              "#7201a8"
             ],
             [
              0.3333333333333333,
              "#9c179e"
             ],
             [
              0.4444444444444444,
              "#bd3786"
             ],
             [
              0.5555555555555556,
              "#d8576b"
             ],
             [
              0.6666666666666666,
              "#ed7953"
             ],
             [
              0.7777777777777778,
              "#fb9f3a"
             ],
             [
              0.8888888888888888,
              "#fdca26"
             ],
             [
              1,
              "#f0f921"
             ]
            ],
            "type": "histogram2dcontour"
           }
          ],
          "mesh3d": [
           {
            "colorbar": {
             "outlinewidth": 0,
             "ticks": ""
            },
            "type": "mesh3d"
           }
          ],
          "parcoords": [
           {
            "line": {
             "colorbar": {
              "outlinewidth": 0,
              "ticks": ""
             }
            },
            "type": "parcoords"
           }
          ],
          "pie": [
           {
            "automargin": true,
            "type": "pie"
           }
          ],
          "scatter": [
           {
            "fillpattern": {
             "fillmode": "overlay",
             "size": 10,
             "solidity": 0.2
            },
            "type": "scatter"
           }
          ],
          "scatter3d": [
           {
            "line": {
             "colorbar": {
              "outlinewidth": 0,
              "ticks": ""
             }
            },
            "marker": {
             "colorbar": {
              "outlinewidth": 0,
              "ticks": ""
             }
            },
            "type": "scatter3d"
           }
          ],
          "scattercarpet": [
           {
            "marker": {
             "colorbar": {
              "outlinewidth": 0,
              "ticks": ""
             }
            },
            "type": "scattercarpet"
           }
          ],
          "scattergeo": [
           {
            "marker": {
             "colorbar": {
              "outlinewidth": 0,
              "ticks": ""
             }
            },
            "type": "scattergeo"
           }
          ],
          "scattergl": [
           {
            "marker": {
             "colorbar": {
              "outlinewidth": 0,
              "ticks": ""
             }
            },
            "type": "scattergl"
           }
          ],
          "scattermapbox": [
           {
            "marker": {
             "colorbar": {
              "outlinewidth": 0,
              "ticks": ""
             }
            },
            "type": "scattermapbox"
           }
          ],
          "scatterpolar": [
           {
            "marker": {
             "colorbar": {
              "outlinewidth": 0,
              "ticks": ""
             }
            },
            "type": "scatterpolar"
           }
          ],
          "scatterpolargl": [
           {
            "marker": {
             "colorbar": {
              "outlinewidth": 0,
              "ticks": ""
             }
            },
            "type": "scatterpolargl"
           }
          ],
          "scatterternary": [
           {
            "marker": {
             "colorbar": {
              "outlinewidth": 0,
              "ticks": ""
             }
            },
            "type": "scatterternary"
           }
          ],
          "surface": [
           {
            "colorbar": {
             "outlinewidth": 0,
             "ticks": ""
            },
            "colorscale": [
             [
              0,
              "#0d0887"
             ],
             [
              0.1111111111111111,
              "#46039f"
             ],
             [
              0.2222222222222222,
              "#7201a8"
             ],
             [
              0.3333333333333333,
              "#9c179e"
             ],
             [
              0.4444444444444444,
              "#bd3786"
             ],
             [
              0.5555555555555556,
              "#d8576b"
             ],
             [
              0.6666666666666666,
              "#ed7953"
             ],
             [
              0.7777777777777778,
              "#fb9f3a"
             ],
             [
              0.8888888888888888,
              "#fdca26"
             ],
             [
              1,
              "#f0f921"
             ]
            ],
            "type": "surface"
           }
          ],
          "table": [
           {
            "cells": {
             "fill": {
              "color": "#EBF0F8"
             },
             "line": {
              "color": "white"
             }
            },
            "header": {
             "fill": {
              "color": "#C8D4E3"
             },
             "line": {
              "color": "white"
             }
            },
            "type": "table"
           }
          ]
         },
         "layout": {
          "annotationdefaults": {
           "arrowcolor": "#2a3f5f",
           "arrowhead": 0,
           "arrowwidth": 1
          },
          "autotypenumbers": "strict",
          "coloraxis": {
           "colorbar": {
            "outlinewidth": 0,
            "ticks": ""
           }
          },
          "colorscale": {
           "diverging": [
            [
             0,
             "#8e0152"
            ],
            [
             0.1,
             "#c51b7d"
            ],
            [
             0.2,
             "#de77ae"
            ],
            [
             0.3,
             "#f1b6da"
            ],
            [
             0.4,
             "#fde0ef"
            ],
            [
             0.5,
             "#f7f7f7"
            ],
            [
             0.6,
             "#e6f5d0"
            ],
            [
             0.7,
             "#b8e186"
            ],
            [
             0.8,
             "#7fbc41"
            ],
            [
             0.9,
             "#4d9221"
            ],
            [
             1,
             "#276419"
            ]
           ],
           "sequential": [
            [
             0,
             "#0d0887"
            ],
            [
             0.1111111111111111,
             "#46039f"
            ],
            [
             0.2222222222222222,
             "#7201a8"
            ],
            [
             0.3333333333333333,
             "#9c179e"
            ],
            [
             0.4444444444444444,
             "#bd3786"
            ],
            [
             0.5555555555555556,
             "#d8576b"
            ],
            [
             0.6666666666666666,
             "#ed7953"
            ],
            [
             0.7777777777777778,
             "#fb9f3a"
            ],
            [
             0.8888888888888888,
             "#fdca26"
            ],
            [
             1,
             "#f0f921"
            ]
           ],
           "sequentialminus": [
            [
             0,
             "#0d0887"
            ],
            [
             0.1111111111111111,
             "#46039f"
            ],
            [
             0.2222222222222222,
             "#7201a8"
            ],
            [
             0.3333333333333333,
             "#9c179e"
            ],
            [
             0.4444444444444444,
             "#bd3786"
            ],
            [
             0.5555555555555556,
             "#d8576b"
            ],
            [
             0.6666666666666666,
             "#ed7953"
            ],
            [
             0.7777777777777778,
             "#fb9f3a"
            ],
            [
             0.8888888888888888,
             "#fdca26"
            ],
            [
             1,
             "#f0f921"
            ]
           ]
          },
          "colorway": [
           "#636efa",
           "#EF553B",
           "#00cc96",
           "#ab63fa",
           "#FFA15A",
           "#19d3f3",
           "#FF6692",
           "#B6E880",
           "#FF97FF",
           "#FECB52"
          ],
          "font": {
           "color": "#2a3f5f"
          },
          "geo": {
           "bgcolor": "white",
           "lakecolor": "white",
           "landcolor": "#E5ECF6",
           "showlakes": true,
           "showland": true,
           "subunitcolor": "white"
          },
          "hoverlabel": {
           "align": "left"
          },
          "hovermode": "closest",
          "mapbox": {
           "style": "light"
          },
          "paper_bgcolor": "white",
          "plot_bgcolor": "#E5ECF6",
          "polar": {
           "angularaxis": {
            "gridcolor": "white",
            "linecolor": "white",
            "ticks": ""
           },
           "bgcolor": "#E5ECF6",
           "radialaxis": {
            "gridcolor": "white",
            "linecolor": "white",
            "ticks": ""
           }
          },
          "scene": {
           "xaxis": {
            "backgroundcolor": "#E5ECF6",
            "gridcolor": "white",
            "gridwidth": 2,
            "linecolor": "white",
            "showbackground": true,
            "ticks": "",
            "zerolinecolor": "white"
           },
           "yaxis": {
            "backgroundcolor": "#E5ECF6",
            "gridcolor": "white",
            "gridwidth": 2,
            "linecolor": "white",
            "showbackground": true,
            "ticks": "",
            "zerolinecolor": "white"
           },
           "zaxis": {
            "backgroundcolor": "#E5ECF6",
            "gridcolor": "white",
            "gridwidth": 2,
            "linecolor": "white",
            "showbackground": true,
            "ticks": "",
            "zerolinecolor": "white"
           }
          },
          "shapedefaults": {
           "line": {
            "color": "#2a3f5f"
           }
          },
          "ternary": {
           "aaxis": {
            "gridcolor": "white",
            "linecolor": "white",
            "ticks": ""
           },
           "baxis": {
            "gridcolor": "white",
            "linecolor": "white",
            "ticks": ""
           },
           "bgcolor": "#E5ECF6",
           "caxis": {
            "gridcolor": "white",
            "linecolor": "white",
            "ticks": ""
           }
          },
          "title": {
           "x": 0.05
          },
          "xaxis": {
           "automargin": true,
           "gridcolor": "white",
           "linecolor": "white",
           "ticks": "",
           "title": {
            "standoff": 15
           },
           "zerolinecolor": "white",
           "zerolinewidth": 2
          },
          "yaxis": {
           "automargin": true,
           "gridcolor": "white",
           "linecolor": "white",
           "ticks": "",
           "title": {
            "standoff": 15
           },
           "zerolinecolor": "white",
           "zerolinewidth": 2
          }
         }
        },
        "title": {
         "text": "Prognostizierte maximale Kraft abhängig vom Füllgrad"
        },
        "xaxis": {
         "anchor": "y",
         "domain": [
          0,
          1
         ],
         "title": {
          "text": "Fuellgrad"
         }
        },
        "yaxis": {
         "anchor": "x",
         "domain": [
          0,
          1
         ],
         "title": {
          "text": "maximale Kraft[N]"
         }
        }
       }
      }
     },
     "metadata": {},
     "output_type": "display_data"
    }
   ],
   "source": [
    "import plotly.express as px \n",
    "\n",
    "fig = px.scatter(eingabedaten, x='Fuellgrad', y=ausgabedaten,\n",
    "    title='Prognostizierte maximale Kraft abhängig vom Füllgrad', \n",
    "    labels={'y': 'maximale Kraft[N]'}\n",
    ")\n",
    "\n",
    "fig.show()"
   ]
  },
  {
   "cell_type": "markdown",
   "id": "7c87e9a5",
   "metadata": {},
   "source": [
    "Wir entscheiden uns für ein lineares Regressionsmodell, das wir zunächst\n",
    "aus dem Modul Scikit-Learn importieren. Dann trainieren wir das lineare\n",
    "Regressionsmodell mit den Eingabe- und Ausgabedaten (wir verzichten auf eine\n",
    "Skalierung der Daten, da diese in derselben Größenordnung liegen und lassen auch\n",
    "den üblichen Split in Trainings- und Testdaten weg). Dafür geben wir über das\n",
    "optionale Argument `sample_weights` noch die Gewichte an."
   ]
  },
  {
   "cell_type": "code",
   "execution_count": 17,
   "id": "882dd6d1",
   "metadata": {},
   "outputs": [
    {
     "data": {
      "text/html": [
       "<style>#sk-container-id-1 {\n",
       "  /* Definition of color scheme common for light and dark mode */\n",
       "  --sklearn-color-text: black;\n",
       "  --sklearn-color-line: gray;\n",
       "  /* Definition of color scheme for unfitted estimators */\n",
       "  --sklearn-color-unfitted-level-0: #fff5e6;\n",
       "  --sklearn-color-unfitted-level-1: #f6e4d2;\n",
       "  --sklearn-color-unfitted-level-2: #ffe0b3;\n",
       "  --sklearn-color-unfitted-level-3: chocolate;\n",
       "  /* Definition of color scheme for fitted estimators */\n",
       "  --sklearn-color-fitted-level-0: #f0f8ff;\n",
       "  --sklearn-color-fitted-level-1: #d4ebff;\n",
       "  --sklearn-color-fitted-level-2: #b3dbfd;\n",
       "  --sklearn-color-fitted-level-3: cornflowerblue;\n",
       "\n",
       "  /* Specific color for light theme */\n",
       "  --sklearn-color-text-on-default-background: var(--sg-text-color, var(--theme-code-foreground, var(--jp-content-font-color1, black)));\n",
       "  --sklearn-color-background: var(--sg-background-color, var(--theme-background, var(--jp-layout-color0, white)));\n",
       "  --sklearn-color-border-box: var(--sg-text-color, var(--theme-code-foreground, var(--jp-content-font-color1, black)));\n",
       "  --sklearn-color-icon: #696969;\n",
       "\n",
       "  @media (prefers-color-scheme: dark) {\n",
       "    /* Redefinition of color scheme for dark theme */\n",
       "    --sklearn-color-text-on-default-background: var(--sg-text-color, var(--theme-code-foreground, var(--jp-content-font-color1, white)));\n",
       "    --sklearn-color-background: var(--sg-background-color, var(--theme-background, var(--jp-layout-color0, #111)));\n",
       "    --sklearn-color-border-box: var(--sg-text-color, var(--theme-code-foreground, var(--jp-content-font-color1, white)));\n",
       "    --sklearn-color-icon: #878787;\n",
       "  }\n",
       "}\n",
       "\n",
       "#sk-container-id-1 {\n",
       "  color: var(--sklearn-color-text);\n",
       "}\n",
       "\n",
       "#sk-container-id-1 pre {\n",
       "  padding: 0;\n",
       "}\n",
       "\n",
       "#sk-container-id-1 input.sk-hidden--visually {\n",
       "  border: 0;\n",
       "  clip: rect(1px 1px 1px 1px);\n",
       "  clip: rect(1px, 1px, 1px, 1px);\n",
       "  height: 1px;\n",
       "  margin: -1px;\n",
       "  overflow: hidden;\n",
       "  padding: 0;\n",
       "  position: absolute;\n",
       "  width: 1px;\n",
       "}\n",
       "\n",
       "#sk-container-id-1 div.sk-dashed-wrapped {\n",
       "  border: 1px dashed var(--sklearn-color-line);\n",
       "  margin: 0 0.4em 0.5em 0.4em;\n",
       "  box-sizing: border-box;\n",
       "  padding-bottom: 0.4em;\n",
       "  background-color: var(--sklearn-color-background);\n",
       "}\n",
       "\n",
       "#sk-container-id-1 div.sk-container {\n",
       "  /* jupyter's `normalize.less` sets `[hidden] { display: none; }`\n",
       "     but bootstrap.min.css set `[hidden] { display: none !important; }`\n",
       "     so we also need the `!important` here to be able to override the\n",
       "     default hidden behavior on the sphinx rendered scikit-learn.org.\n",
       "     See: https://github.com/scikit-learn/scikit-learn/issues/21755 */\n",
       "  display: inline-block !important;\n",
       "  position: relative;\n",
       "}\n",
       "\n",
       "#sk-container-id-1 div.sk-text-repr-fallback {\n",
       "  display: none;\n",
       "}\n",
       "\n",
       "div.sk-parallel-item,\n",
       "div.sk-serial,\n",
       "div.sk-item {\n",
       "  /* draw centered vertical line to link estimators */\n",
       "  background-image: linear-gradient(var(--sklearn-color-text-on-default-background), var(--sklearn-color-text-on-default-background));\n",
       "  background-size: 2px 100%;\n",
       "  background-repeat: no-repeat;\n",
       "  background-position: center center;\n",
       "}\n",
       "\n",
       "/* Parallel-specific style estimator block */\n",
       "\n",
       "#sk-container-id-1 div.sk-parallel-item::after {\n",
       "  content: \"\";\n",
       "  width: 100%;\n",
       "  border-bottom: 2px solid var(--sklearn-color-text-on-default-background);\n",
       "  flex-grow: 1;\n",
       "}\n",
       "\n",
       "#sk-container-id-1 div.sk-parallel {\n",
       "  display: flex;\n",
       "  align-items: stretch;\n",
       "  justify-content: center;\n",
       "  background-color: var(--sklearn-color-background);\n",
       "  position: relative;\n",
       "}\n",
       "\n",
       "#sk-container-id-1 div.sk-parallel-item {\n",
       "  display: flex;\n",
       "  flex-direction: column;\n",
       "}\n",
       "\n",
       "#sk-container-id-1 div.sk-parallel-item:first-child::after {\n",
       "  align-self: flex-end;\n",
       "  width: 50%;\n",
       "}\n",
       "\n",
       "#sk-container-id-1 div.sk-parallel-item:last-child::after {\n",
       "  align-self: flex-start;\n",
       "  width: 50%;\n",
       "}\n",
       "\n",
       "#sk-container-id-1 div.sk-parallel-item:only-child::after {\n",
       "  width: 0;\n",
       "}\n",
       "\n",
       "/* Serial-specific style estimator block */\n",
       "\n",
       "#sk-container-id-1 div.sk-serial {\n",
       "  display: flex;\n",
       "  flex-direction: column;\n",
       "  align-items: center;\n",
       "  background-color: var(--sklearn-color-background);\n",
       "  padding-right: 1em;\n",
       "  padding-left: 1em;\n",
       "}\n",
       "\n",
       "\n",
       "/* Toggleable style: style used for estimator/Pipeline/ColumnTransformer box that is\n",
       "clickable and can be expanded/collapsed.\n",
       "- Pipeline and ColumnTransformer use this feature and define the default style\n",
       "- Estimators will overwrite some part of the style using the `sk-estimator` class\n",
       "*/\n",
       "\n",
       "/* Pipeline and ColumnTransformer style (default) */\n",
       "\n",
       "#sk-container-id-1 div.sk-toggleable {\n",
       "  /* Default theme specific background. It is overwritten whether we have a\n",
       "  specific estimator or a Pipeline/ColumnTransformer */\n",
       "  background-color: var(--sklearn-color-background);\n",
       "}\n",
       "\n",
       "/* Toggleable label */\n",
       "#sk-container-id-1 label.sk-toggleable__label {\n",
       "  cursor: pointer;\n",
       "  display: block;\n",
       "  width: 100%;\n",
       "  margin-bottom: 0;\n",
       "  padding: 0.5em;\n",
       "  box-sizing: border-box;\n",
       "  text-align: center;\n",
       "}\n",
       "\n",
       "#sk-container-id-1 label.sk-toggleable__label-arrow:before {\n",
       "  /* Arrow on the left of the label */\n",
       "  content: \"▸\";\n",
       "  float: left;\n",
       "  margin-right: 0.25em;\n",
       "  color: var(--sklearn-color-icon);\n",
       "}\n",
       "\n",
       "#sk-container-id-1 label.sk-toggleable__label-arrow:hover:before {\n",
       "  color: var(--sklearn-color-text);\n",
       "}\n",
       "\n",
       "/* Toggleable content - dropdown */\n",
       "\n",
       "#sk-container-id-1 div.sk-toggleable__content {\n",
       "  max-height: 0;\n",
       "  max-width: 0;\n",
       "  overflow: hidden;\n",
       "  text-align: left;\n",
       "  /* unfitted */\n",
       "  background-color: var(--sklearn-color-unfitted-level-0);\n",
       "}\n",
       "\n",
       "#sk-container-id-1 div.sk-toggleable__content.fitted {\n",
       "  /* fitted */\n",
       "  background-color: var(--sklearn-color-fitted-level-0);\n",
       "}\n",
       "\n",
       "#sk-container-id-1 div.sk-toggleable__content pre {\n",
       "  margin: 0.2em;\n",
       "  border-radius: 0.25em;\n",
       "  color: var(--sklearn-color-text);\n",
       "  /* unfitted */\n",
       "  background-color: var(--sklearn-color-unfitted-level-0);\n",
       "}\n",
       "\n",
       "#sk-container-id-1 div.sk-toggleable__content.fitted pre {\n",
       "  /* unfitted */\n",
       "  background-color: var(--sklearn-color-fitted-level-0);\n",
       "}\n",
       "\n",
       "#sk-container-id-1 input.sk-toggleable__control:checked~div.sk-toggleable__content {\n",
       "  /* Expand drop-down */\n",
       "  max-height: 200px;\n",
       "  max-width: 100%;\n",
       "  overflow: auto;\n",
       "}\n",
       "\n",
       "#sk-container-id-1 input.sk-toggleable__control:checked~label.sk-toggleable__label-arrow:before {\n",
       "  content: \"▾\";\n",
       "}\n",
       "\n",
       "/* Pipeline/ColumnTransformer-specific style */\n",
       "\n",
       "#sk-container-id-1 div.sk-label input.sk-toggleable__control:checked~label.sk-toggleable__label {\n",
       "  color: var(--sklearn-color-text);\n",
       "  background-color: var(--sklearn-color-unfitted-level-2);\n",
       "}\n",
       "\n",
       "#sk-container-id-1 div.sk-label.fitted input.sk-toggleable__control:checked~label.sk-toggleable__label {\n",
       "  background-color: var(--sklearn-color-fitted-level-2);\n",
       "}\n",
       "\n",
       "/* Estimator-specific style */\n",
       "\n",
       "/* Colorize estimator box */\n",
       "#sk-container-id-1 div.sk-estimator input.sk-toggleable__control:checked~label.sk-toggleable__label {\n",
       "  /* unfitted */\n",
       "  background-color: var(--sklearn-color-unfitted-level-2);\n",
       "}\n",
       "\n",
       "#sk-container-id-1 div.sk-estimator.fitted input.sk-toggleable__control:checked~label.sk-toggleable__label {\n",
       "  /* fitted */\n",
       "  background-color: var(--sklearn-color-fitted-level-2);\n",
       "}\n",
       "\n",
       "#sk-container-id-1 div.sk-label label.sk-toggleable__label,\n",
       "#sk-container-id-1 div.sk-label label {\n",
       "  /* The background is the default theme color */\n",
       "  color: var(--sklearn-color-text-on-default-background);\n",
       "}\n",
       "\n",
       "/* On hover, darken the color of the background */\n",
       "#sk-container-id-1 div.sk-label:hover label.sk-toggleable__label {\n",
       "  color: var(--sklearn-color-text);\n",
       "  background-color: var(--sklearn-color-unfitted-level-2);\n",
       "}\n",
       "\n",
       "/* Label box, darken color on hover, fitted */\n",
       "#sk-container-id-1 div.sk-label.fitted:hover label.sk-toggleable__label.fitted {\n",
       "  color: var(--sklearn-color-text);\n",
       "  background-color: var(--sklearn-color-fitted-level-2);\n",
       "}\n",
       "\n",
       "/* Estimator label */\n",
       "\n",
       "#sk-container-id-1 div.sk-label label {\n",
       "  font-family: monospace;\n",
       "  font-weight: bold;\n",
       "  display: inline-block;\n",
       "  line-height: 1.2em;\n",
       "}\n",
       "\n",
       "#sk-container-id-1 div.sk-label-container {\n",
       "  text-align: center;\n",
       "}\n",
       "\n",
       "/* Estimator-specific */\n",
       "#sk-container-id-1 div.sk-estimator {\n",
       "  font-family: monospace;\n",
       "  border: 1px dotted var(--sklearn-color-border-box);\n",
       "  border-radius: 0.25em;\n",
       "  box-sizing: border-box;\n",
       "  margin-bottom: 0.5em;\n",
       "  /* unfitted */\n",
       "  background-color: var(--sklearn-color-unfitted-level-0);\n",
       "}\n",
       "\n",
       "#sk-container-id-1 div.sk-estimator.fitted {\n",
       "  /* fitted */\n",
       "  background-color: var(--sklearn-color-fitted-level-0);\n",
       "}\n",
       "\n",
       "/* on hover */\n",
       "#sk-container-id-1 div.sk-estimator:hover {\n",
       "  /* unfitted */\n",
       "  background-color: var(--sklearn-color-unfitted-level-2);\n",
       "}\n",
       "\n",
       "#sk-container-id-1 div.sk-estimator.fitted:hover {\n",
       "  /* fitted */\n",
       "  background-color: var(--sklearn-color-fitted-level-2);\n",
       "}\n",
       "\n",
       "/* Specification for estimator info (e.g. \"i\" and \"?\") */\n",
       "\n",
       "/* Common style for \"i\" and \"?\" */\n",
       "\n",
       ".sk-estimator-doc-link,\n",
       "a:link.sk-estimator-doc-link,\n",
       "a:visited.sk-estimator-doc-link {\n",
       "  float: right;\n",
       "  font-size: smaller;\n",
       "  line-height: 1em;\n",
       "  font-family: monospace;\n",
       "  background-color: var(--sklearn-color-background);\n",
       "  border-radius: 1em;\n",
       "  height: 1em;\n",
       "  width: 1em;\n",
       "  text-decoration: none !important;\n",
       "  margin-left: 1ex;\n",
       "  /* unfitted */\n",
       "  border: var(--sklearn-color-unfitted-level-1) 1pt solid;\n",
       "  color: var(--sklearn-color-unfitted-level-1);\n",
       "}\n",
       "\n",
       ".sk-estimator-doc-link.fitted,\n",
       "a:link.sk-estimator-doc-link.fitted,\n",
       "a:visited.sk-estimator-doc-link.fitted {\n",
       "  /* fitted */\n",
       "  border: var(--sklearn-color-fitted-level-1) 1pt solid;\n",
       "  color: var(--sklearn-color-fitted-level-1);\n",
       "}\n",
       "\n",
       "/* On hover */\n",
       "div.sk-estimator:hover .sk-estimator-doc-link:hover,\n",
       ".sk-estimator-doc-link:hover,\n",
       "div.sk-label-container:hover .sk-estimator-doc-link:hover,\n",
       ".sk-estimator-doc-link:hover {\n",
       "  /* unfitted */\n",
       "  background-color: var(--sklearn-color-unfitted-level-3);\n",
       "  color: var(--sklearn-color-background);\n",
       "  text-decoration: none;\n",
       "}\n",
       "\n",
       "div.sk-estimator.fitted:hover .sk-estimator-doc-link.fitted:hover,\n",
       ".sk-estimator-doc-link.fitted:hover,\n",
       "div.sk-label-container:hover .sk-estimator-doc-link.fitted:hover,\n",
       ".sk-estimator-doc-link.fitted:hover {\n",
       "  /* fitted */\n",
       "  background-color: var(--sklearn-color-fitted-level-3);\n",
       "  color: var(--sklearn-color-background);\n",
       "  text-decoration: none;\n",
       "}\n",
       "\n",
       "/* Span, style for the box shown on hovering the info icon */\n",
       ".sk-estimator-doc-link span {\n",
       "  display: none;\n",
       "  z-index: 9999;\n",
       "  position: relative;\n",
       "  font-weight: normal;\n",
       "  right: .2ex;\n",
       "  padding: .5ex;\n",
       "  margin: .5ex;\n",
       "  width: min-content;\n",
       "  min-width: 20ex;\n",
       "  max-width: 50ex;\n",
       "  color: var(--sklearn-color-text);\n",
       "  box-shadow: 2pt 2pt 4pt #999;\n",
       "  /* unfitted */\n",
       "  background: var(--sklearn-color-unfitted-level-0);\n",
       "  border: .5pt solid var(--sklearn-color-unfitted-level-3);\n",
       "}\n",
       "\n",
       ".sk-estimator-doc-link.fitted span {\n",
       "  /* fitted */\n",
       "  background: var(--sklearn-color-fitted-level-0);\n",
       "  border: var(--sklearn-color-fitted-level-3);\n",
       "}\n",
       "\n",
       ".sk-estimator-doc-link:hover span {\n",
       "  display: block;\n",
       "}\n",
       "\n",
       "/* \"?\"-specific style due to the `<a>` HTML tag */\n",
       "\n",
       "#sk-container-id-1 a.estimator_doc_link {\n",
       "  float: right;\n",
       "  font-size: 1rem;\n",
       "  line-height: 1em;\n",
       "  font-family: monospace;\n",
       "  background-color: var(--sklearn-color-background);\n",
       "  border-radius: 1rem;\n",
       "  height: 1rem;\n",
       "  width: 1rem;\n",
       "  text-decoration: none;\n",
       "  /* unfitted */\n",
       "  color: var(--sklearn-color-unfitted-level-1);\n",
       "  border: var(--sklearn-color-unfitted-level-1) 1pt solid;\n",
       "}\n",
       "\n",
       "#sk-container-id-1 a.estimator_doc_link.fitted {\n",
       "  /* fitted */\n",
       "  border: var(--sklearn-color-fitted-level-1) 1pt solid;\n",
       "  color: var(--sklearn-color-fitted-level-1);\n",
       "}\n",
       "\n",
       "/* On hover */\n",
       "#sk-container-id-1 a.estimator_doc_link:hover {\n",
       "  /* unfitted */\n",
       "  background-color: var(--sklearn-color-unfitted-level-3);\n",
       "  color: var(--sklearn-color-background);\n",
       "  text-decoration: none;\n",
       "}\n",
       "\n",
       "#sk-container-id-1 a.estimator_doc_link.fitted:hover {\n",
       "  /* fitted */\n",
       "  background-color: var(--sklearn-color-fitted-level-3);\n",
       "}\n",
       "</style><div id=\"sk-container-id-1\" class=\"sk-top-container\"><div class=\"sk-text-repr-fallback\"><pre>LinearRegression()</pre><b>In a Jupyter environment, please rerun this cell to show the HTML representation or trust the notebook. <br />On GitHub, the HTML representation is unable to render, please try loading this page with nbviewer.org.</b></div><div class=\"sk-container\" hidden><div class=\"sk-item\"><div class=\"sk-estimator fitted sk-toggleable\"><input class=\"sk-toggleable__control sk-hidden--visually\" id=\"sk-estimator-id-1\" type=\"checkbox\" checked><label for=\"sk-estimator-id-1\" class=\"sk-toggleable__label fitted sk-toggleable__label-arrow fitted\">&nbsp;&nbsp;LinearRegression<a class=\"sk-estimator-doc-link fitted\" rel=\"noreferrer\" target=\"_blank\" href=\"https://scikit-learn.org/1.4/modules/generated/sklearn.linear_model.LinearRegression.html\">?<span>Documentation for LinearRegression</span></a><span class=\"sk-estimator-doc-link fitted\">i<span>Fitted</span></span></label><div class=\"sk-toggleable__content fitted\"><pre>LinearRegression()</pre></div> </div></div></div></div>"
      ],
      "text/plain": [
       "LinearRegression()"
      ]
     },
     "execution_count": 17,
     "metadata": {},
     "output_type": "execute_result"
    }
   ],
   "source": [
    "from sklearn.linear_model import LinearRegression\n",
    "\n",
    "modell = LinearRegression()\n",
    "modell.fit(eingabedaten, ausgabedaten, sample_weight=gewichte)"
   ]
  },
  {
   "cell_type": "markdown",
   "id": "122f1cc1",
   "metadata": {},
   "source": [
    "Mithilfe der `score()`-Methode lassen wir die Qualität des Modells bestimmen:"
   ]
  },
  {
   "cell_type": "code",
   "execution_count": 18,
   "id": "4571d1ba",
   "metadata": {},
   "outputs": [
    {
     "name": "stdout",
     "output_type": "stream",
     "text": [
      "0.8904881638530242\n"
     ]
    }
   ],
   "source": [
    "score = modell.score(eingabedaten, ausgabedaten)\n",
    "print(score)"
   ]
  },
  {
   "cell_type": "markdown",
   "id": "1f9409b6",
   "metadata": {},
   "source": [
    "Ein Score von 1 wäre perfekt, 0.87 ist sehr gut. Wir haben daher ein\n",
    "interpretierbares Ersatzmodell gefunden, das hilft, das ausgewählte Beispiel zu\n",
    "interpretieren.\n",
    "\n",
    "### Schritt 5: Erklärung der Prognose\n",
    "\n",
    "Lineare Regressionsmodelle sind leicht verständlich und gut interpretierbar.\n",
    "Wenn $x_0$ für die Zellenform steht, $x_1$ für die Zellengröße und $x_2$ für den\n",
    "Füllgrad, dann wird die maximale Kraft $y$ bei einem linearen Regressionsmodell\n",
    "als\n",
    "\n",
    "$$y = w_0\\cdot x_0 + w_1\\cdot x_1 + w_2\\cdot x_2 + b$$\n",
    "\n",
    "berechnet. $w_0, w_1$ und $w_2$ sind die Koeffizienten des linearen Modells und\n",
    "$b$ die Steigung. Wir lassen uns nun die Koeffizienten des linearen\n",
    "Regressionsmodells ausgeben, das als Ersatzmodell trainiert wurde. Diese werden\n",
    "von Scikit-Learn im trainierten Modell im Attribut `coef_` gespeichert."
   ]
  },
  {
   "cell_type": "code",
   "execution_count": 19,
   "id": "5433fa90",
   "metadata": {},
   "outputs": [
    {
     "name": "stdout",
     "output_type": "stream",
     "text": [
      "[  0.          -2.45507152 635.33023841]\n"
     ]
    }
   ],
   "source": [
    "print(modell.coef_)"
   ]
  },
  {
   "cell_type": "markdown",
   "id": "048e79fc",
   "metadata": {},
   "source": [
    "Die Zellenform spielt keine Rolle, der Koeffizient ist 0. Die Zellengröße wird\n",
    "mit ungefähr 3.8 gewichtet, der Füllgrad mit ungefähr 474.3. Der Koeffizient für\n",
    "den Füllgrad ist um eingies größer als der Koeffizient für die Zellengröße. Dies\n",
    "ist auch dann noch der Fall, wenn wir berücksichtigen, dass die Werte der\n",
    "Zellengröße 10-mal so groß sind wie der Füllgrad (wir haben die Daten nicht\n",
    "skaliert).\n",
    "\n",
    "Dazu kommt noch die Steigung, die im Attribut `intercept_` gespeichert ist."
   ]
  },
  {
   "cell_type": "code",
   "execution_count": 20,
   "id": "0ffb3675",
   "metadata": {},
   "outputs": [
    {
     "name": "stdout",
     "output_type": "stream",
     "text": [
      "-134.78663016846977\n"
     ]
    }
   ],
   "source": [
    "print(modell.intercept_)"
   ]
  },
  {
   "cell_type": "markdown",
   "id": "52c5e57a",
   "metadata": {},
   "source": [
    "Insgesamt lautet das lineare Regressionsmodell also\n",
    "\n",
    "$$y = 3.8\\cdot x_1 + 474.3\\cdot x_2 - 97.4,$$\n",
    "\n",
    "wobei $x_1$ die Zellengröße in Millimetern und $x_2$ der Füllgrad ist.\n",
    "\n",
    "## Kategorien der erklärbaren KI-Modelle\n",
    "\n",
    "TODO\n",
    "\n",
    "* Komplexität (intrinsische Modelle oder Post-hoc-Methoden),\n",
    "* Umfang (global oder lokal) und\n",
    "* Modellabhängigkeit (modellspezifisch oder modellagnostisch)\n",
    "\n",
    "## Zusammenfassung und Ausblick\n",
    "\n",
    "TODO"
   ]
  },
  {
   "cell_type": "code",
   "execution_count": 25,
   "id": "86437228",
   "metadata": {},
   "outputs": [
    {
     "name": "stdout",
     "output_type": "stream",
     "text": [
      "<class 'pandas.core.frame.DataFrame'>\n",
      "RangeIndex: 100 entries, 0 to 99\n",
      "Data columns (total 2 columns):\n",
      " #   Column     Non-Null Count  Dtype  \n",
      "---  ------     --------------  -----  \n",
      " 0   Fuellgrad  100 non-null    float64\n",
      " 1   Prognose   100 non-null    float64\n",
      "dtypes: float64(2)\n",
      "memory usage: 1.7 KB\n"
     ]
    }
   ],
   "source": [
    "daten = pd.DataFrame()\n",
    "daten['Fuellgrad'] = eingabedaten['Fuellgrad']\n",
    "daten['Prognose'] =  ausgabedaten\n",
    "daten.info()\n",
    "daten.to_csv('daten_fuellgrad_prognose.csv', index=False)"
   ]
  }
 ],
 "metadata": {
  "kernelspec": {
   "display_name": "python311",
   "language": "python",
   "name": "python3"
  },
  "language_info": {
   "codemirror_mode": {
    "name": "ipython",
    "version": 3
   },
   "file_extension": ".py",
   "mimetype": "text/x-python",
   "name": "python",
   "nbconvert_exporter": "python",
   "pygments_lexer": "ipython3",
   "version": "3.11.0"
  }
 },
 "nbformat": 4,
 "nbformat_minor": 5
}
