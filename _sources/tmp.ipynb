{
 "cells": [
  {
   "cell_type": "code",
   "execution_count": 1,
   "metadata": {},
   "outputs": [],
   "source": [
    "# Load with dill\n",
    "import dill\n",
    "with open('schuheinlagen_orakel.dill', 'rb') as f:\n",
    "    ki_modell = dill.load(f)\n",
    "\n"
   ]
  },
  {
   "cell_type": "code",
   "execution_count": 2,
   "metadata": {},
   "outputs": [
    {
     "data": {
      "text/html": [
       "<div>\n",
       "<style scoped>\n",
       "    .dataframe tbody tr th:only-of-type {\n",
       "        vertical-align: middle;\n",
       "    }\n",
       "\n",
       "    .dataframe tbody tr th {\n",
       "        vertical-align: top;\n",
       "    }\n",
       "\n",
       "    .dataframe thead th {\n",
       "        text-align: right;\n",
       "    }\n",
       "</style>\n",
       "<table border=\"1\" class=\"dataframe\">\n",
       "  <thead>\n",
       "    <tr style=\"text-align: right;\">\n",
       "      <th></th>\n",
       "      <th>Zellenform</th>\n",
       "      <th>Zellengroesse</th>\n",
       "      <th>Fuellgrad</th>\n",
       "    </tr>\n",
       "  </thead>\n",
       "  <tbody>\n",
       "    <tr>\n",
       "      <th>0</th>\n",
       "      <td>1</td>\n",
       "      <td>3.0</td>\n",
       "      <td>0.3</td>\n",
       "    </tr>\n",
       "  </tbody>\n",
       "</table>\n",
       "</div>"
      ],
      "text/plain": [
       "   Zellenform  Zellengroesse  Fuellgrad\n",
       "0           1            3.0        0.3"
      ]
     },
     "execution_count": 2,
     "metadata": {},
     "output_type": "execute_result"
    }
   ],
   "source": [
    "import pandas as pd \n",
    "\n",
    "bauteil = pd.DataFrame({\n",
    "    'Zellenform': [1],\n",
    "    'Zellengroesse': [3.0],\n",
    "    'Fuellgrad': [0.3]\n",
    "})\n",
    "\n",
    "bauteil.head()"
   ]
  },
  {
   "cell_type": "code",
   "execution_count": 3,
   "metadata": {},
   "outputs": [],
   "source": [
    "import numpy as np\n",
    "\n",
    "N = 100\n",
    "variation_zellenform = np.ones(N)\n",
    "\n",
    "np.random.seed(42) \n",
    "\n",
    "variation_zellengroesse = 3.0 + np.random.normal(0, 0.5, N)\n",
    "variation_fuellgrad = 0.3 + np.random.normal(0, 0.05, N)\n",
    "\n",
    "eingabedaten = pd.DataFrame({\n",
    "    'Zellenform': variation_zellenform,\n",
    "    'Zellengroesse': variation_zellengroesse,\n",
    "    'Fuellgrad': variation_fuellgrad\n",
    "}) \n",
    "\n",
    "ausgabedaten = ki_modell.predict(eingabedaten)"
   ]
  },
  {
   "cell_type": "code",
   "execution_count": 4,
   "metadata": {},
   "outputs": [
    {
     "name": "stdout",
     "output_type": "stream",
     "text": [
      "0.8904881638530242\n",
      "[  0.          -2.45507152 635.33023841]\n"
     ]
    }
   ],
   "source": [
    "abstaende = ((eingabedaten['Zellengroesse'] - 3.0)**2 + (eingabedaten['Fuellgrad'] - 0.3)**2)**0.5\n",
    "gewichte = -2/3 * abstaende + 1\n",
    "\n",
    "from sklearn.linear_model import LinearRegression\n",
    "\n",
    "modell = LinearRegression()\n",
    "modell.fit(eingabedaten, ausgabedaten, sample_weight=gewichte)\n",
    "score = modell.score(eingabedaten, ausgabedaten)\n",
    "print(score)\n",
    "\n",
    "print(modell.coef_)"
   ]
  },
  {
   "cell_type": "code",
   "execution_count": 5,
   "metadata": {},
   "outputs": [
    {
     "data": {
      "text/plain": [
       "[0.22923146289747925,\n",
       " 0.278967733861732,\n",
       " 0.2828642741736615,\n",
       " 0.259886136538919,\n",
       " 0.2919357144166995,\n",
       " 0.3202025428407269,\n",
       " 0.3943092950605265,\n",
       " 0.3087288906415919,\n",
       " 0.3128775195361382,\n",
       " 0.29627770421169164,\n",
       " 0.2040614392350479,\n",
       " 0.29867430622753915,\n",
       " 0.30301151049705133,\n",
       " 0.4231621056242643,\n",
       " 0.29038195176094383,\n",
       " 0.3150773671166806,\n",
       " 0.2982644115147378,\n",
       " 0.24156609811902338,\n",
       " 0.35714114072575104,\n",
       " 0.3375966516343387,\n",
       " 0.33955159735215235,\n",
       " 0.25453062726026304,\n",
       " 0.37013971554680497,\n",
       " 0.22990744686038594,\n",
       " 0.3293428546900135,\n",
       " 0.4095227812904989,\n",
       " 0.25047318374346556,\n",
       " 0.2716851135198614,\n",
       " 0.304982568254382,\n",
       " 0.27482621729419004,\n",
       " 0.22246682844669335,\n",
       " 0.30342814874030133,\n",
       " 0.24688481431369474,\n",
       " 0.32367962153175905,\n",
       " 0.2540287882883098,\n",
       " 0.377496720250877,\n",
       " 0.26083733538318815,\n",
       " 0.28389692418971624,\n",
       " 0.34067586086848345,\n",
       " 0.23845678417830224,\n",
       " 0.31137299673020646,\n",
       " 0.36535713771412137,\n",
       " 0.2196258382719386,\n",
       " 0.3092316929266152,\n",
       " 0.3129941397124212,\n",
       " 0.3390911435888655,\n",
       " 0.2381524644560959,\n",
       " 0.23397716934578616,\n",
       " 0.3260970782808449,\n",
       " 0.3148492336616593,\n",
       " 0.31252464251729384,\n",
       " 0.31732241047484877,\n",
       " 0.26599876392107547,\n",
       " 0.31161268485805016,\n",
       " 0.31465362366493405,\n",
       " 0.2642824290986816,\n",
       " 0.3932887255572378,\n",
       " 0.32369164604558937,\n",
       " 0.24043482513986755,\n",
       " 0.3328276804316915,\n",
       " 0.25126591648863394,\n",
       " 0.3393542301871226,\n",
       " 0.3579297789503702,\n",
       " 0.25896588408241444,\n",
       " 0.3481688064622161,\n",
       " 0.3206390463468249,\n",
       " 0.3411030079997245,\n",
       " 0.39483964913269737,\n",
       " 0.28773059419985647,\n",
       " 0.26231319178212553,\n",
       " 0.25552427851872384,\n",
       " 0.2592094857517281,\n",
       " 0.29614491452929476,\n",
       " 0.31705759874083217,\n",
       " 0.31383453996650096,\n",
       " 0.3413591624518012,\n",
       " 0.30065009459389536,\n",
       " 0.37267670385786583,\n",
       " 0.2867671583381022,\n",
       " 0.43600845832948093,\n",
       " 0.3312833673882503,\n",
       " 0.25714212217918586,\n",
       " 0.24645537509694437,\n",
       " 0.3241236207621593,\n",
       " 0.28882686073370745,\n",
       " 0.3357000247046046,\n",
       " 0.32366188122867723,\n",
       " 0.29635855436715636,\n",
       " 0.25766031409657975,\n",
       " 0.22425763876570676,\n",
       " 0.27767425239664895,\n",
       " 0.34281993971617364,\n",
       " 0.3107046872065102,\n",
       " 0.2377130610644006,\n",
       " 0.3086590462925591,\n",
       " 0.3192658689864418,\n",
       " 0.25580712818994333,\n",
       " 0.3076862552972764,\n",
       " 0.3029104359223,\n",
       " 0.24285148510846882]"
      ]
     },
     "execution_count": 5,
     "metadata": {},
     "output_type": "execute_result"
    }
   ],
   "source": [
    "eingabedaten['Fuellgrad'].to_list()"
   ]
  },
  {
   "cell_type": "code",
   "execution_count": null,
   "metadata": {},
   "outputs": [
    {
     "data": {
      "application/vnd.plotly.v1+json": {
       "config": {
        "plotlyServerURL": "https://plot.ly"
       },
       "data": [
        {
         "hovertemplate": "Fuellgrad=%{x}<br>maximale Kraft[N]=%{y}<extra></extra>",
         "legendgroup": "",
         "marker": {
          "color": "#636efa",
          "symbol": "circle"
         },
         "mode": "markers",
         "name": "",
         "orientation": "v",
         "showlegend": false,
         "type": "scatter",
         "x": [
          0.22923146289747925,
          0.278967733861732,
          0.2828642741736615,
          0.259886136538919,
          0.2919357144166995,
          0.3202025428407269,
          0.3943092950605265,
          0.3087288906415919,
          0.3128775195361382,
          0.29627770421169164,
          0.2040614392350479,
          0.29867430622753915,
          0.30301151049705133,
          0.4231621056242643,
          0.29038195176094383,
          0.3150773671166806,
          0.2982644115147378,
          0.24156609811902338,
          0.35714114072575104,
          0.3375966516343387,
          0.33955159735215235,
          0.25453062726026304,
          0.37013971554680497,
          0.22990744686038594,
          0.3293428546900135,
          0.4095227812904989,
          0.25047318374346556,
          0.2716851135198614,
          0.304982568254382,
          0.27482621729419004,
          0.22246682844669335,
          0.30342814874030133,
          0.24688481431369474,
          0.32367962153175905,
          0.2540287882883098,
          0.377496720250877,
          0.26083733538318815,
          0.28389692418971624,
          0.34067586086848345,
          0.23845678417830224,
          0.31137299673020646,
          0.36535713771412137,
          0.2196258382719386,
          0.3092316929266152,
          0.3129941397124212,
          0.3390911435888655,
          0.2381524644560959,
          0.23397716934578616,
          0.3260970782808449,
          0.3148492336616593,
          0.31252464251729384,
          0.31732241047484877,
          0.26599876392107547,
          0.31161268485805016,
          0.31465362366493405,
          0.2642824290986816,
          0.3932887255572378,
          0.32369164604558937,
          0.24043482513986755,
          0.3328276804316915,
          0.25126591648863394,
          0.3393542301871226,
          0.3579297789503702,
          0.25896588408241444,
          0.3481688064622161,
          0.3206390463468249,
          0.3411030079997245,
          0.39483964913269737,
          0.28773059419985647,
          0.26231319178212553,
          0.25552427851872384,
          0.2592094857517281,
          0.29614491452929476,
          0.31705759874083217,
          0.31383453996650096,
          0.3413591624518012,
          0.30065009459389536,
          0.37267670385786583,
          0.2867671583381022,
          0.43600845832948093,
          0.3312833673882503,
          0.25714212217918586,
          0.24645537509694437,
          0.3241236207621593,
          0.28882686073370745,
          0.3357000247046046,
          0.32366188122867723,
          0.29635855436715636,
          0.25766031409657975,
          0.22425763876570676,
          0.27767425239664895,
          0.34281993971617364,
          0.3107046872065102,
          0.2377130610644006,
          0.3086590462925591,
          0.3192658689864418,
          0.25580712818994333,
          0.3076862552972764,
          0.3029104359223,
          0.24285148510846882
         ],
         "xaxis": "x",
         "y": [
          13.579004999999995,
          30.992710000000024,
          30.30935000000003,
          22.10348324999999,
          40.66428499999997,
          44.93902499999997,
          125.5529306428571,
          39.93772500000001,
          43.987844999999965,
          39.49202500000003,
          9.009723000000001,
          42.65335499999996,
          42.067874999999965,
          151.5797646428573,
          41.39463499999998,
          45.08422499999997,
          42.41728499999997,
          20.750142249999982,
          91.96598999999983,
          80.17268999999986,
          73.88834999999986,
          20.872002249999976,
          112.82289999999983,
          13.910144999999995,
          73.46924999999985,
          142.38654564285721,
          21.403182249999986,
          31.047420000000024,
          42.65335499999996,
          31.442370000000025,
          11.694749999999997,
          39.55241500000004,
          20.750142249999982,
          45.08776499999999,
          19.67632224999998,
          124.29902464285703,
          24.78779125,
          32.195350000000026,
          82.24595999999987,
          17.373774999999988,
          41.648955000000015,
          112.75595999999983,
          11.429429999999995,
          42.82174499999994,
          43.819034999999964,
          76.32713999999986,
          16.96046499999999,
          12.765314999999996,
          71.59649999999986,
          43.819034999999964,
          43.40236499999996,
          45.08422499999997,
          30.086531250000018,
          41.648955000000015,
          41.648955000000015,
          23.409141249999998,
          122.4465146428571,
          45.25657499999997,
          20.750142249999982,
          71.63663999999986,
          20.774772249999977,
          75.07577999999985,
          91.96598999999983,
          25.10255125,
          82.7692199999998,
          43.59470500000001,
          77.34770999999984,
          123.48760564285705,
          37.34115999999999,
          24.95849125,
          24.302751249999996,
          22.10348324999999,
          42.335804999999965,
          43.30049500000002,
          43.819034999999964,
          76.43543999999984,
          42.335804999999965,
          104.04954999999984,
          37.609089999999995,
          151.5797646428573,
          72.35744999999986,
          24.302751249999996,
          18.45394424999998,
          45.25657499999997,
          38.33736999999999,
          76.32713999999986,
          43.06673500000001,
          42.067874999999965,
          24.473451249999997,
          11.221499999999994,
          30.992710000000024,
          76.43543999999984,
          43.987844999999965,
          17.373774999999988,
          42.82174499999994,
          44.91541499999998,
          24.302751249999996,
          42.23626499999996,
          42.335804999999965,
          20.750142249999982
         ],
         "yaxis": "y"
        }
       ],
       "layout": {
        "legend": {
         "tracegroupgap": 0
        },
        "template": {
         "data": {
          "bar": [
           {
            "error_x": {
             "color": "#2a3f5f"
            },
            "error_y": {
             "color": "#2a3f5f"
            },
            "marker": {
             "line": {
              "color": "#E5ECF6",
              "width": 0.5
             },
             "pattern": {
              "fillmode": "overlay",
              "size": 10,
              "solidity": 0.2
             }
            },
            "type": "bar"
           }
          ],
          "barpolar": [
           {
            "marker": {
             "line": {
              "color": "#E5ECF6",
              "width": 0.5
             },
             "pattern": {
              "fillmode": "overlay",
              "size": 10,
              "solidity": 0.2
             }
            },
            "type": "barpolar"
           }
          ],
          "carpet": [
           {
            "aaxis": {
             "endlinecolor": "#2a3f5f",
             "gridcolor": "white",
             "linecolor": "white",
             "minorgridcolor": "white",
             "startlinecolor": "#2a3f5f"
            },
            "baxis": {
             "endlinecolor": "#2a3f5f",
             "gridcolor": "white",
             "linecolor": "white",
             "minorgridcolor": "white",
             "startlinecolor": "#2a3f5f"
            },
            "type": "carpet"
           }
          ],
          "choropleth": [
           {
            "colorbar": {
             "outlinewidth": 0,
             "ticks": ""
            },
            "type": "choropleth"
           }
          ],
          "contour": [
           {
            "colorbar": {
             "outlinewidth": 0,
             "ticks": ""
            },
            "colorscale": [
             [
              0,
              "#0d0887"
             ],
             [
              0.1111111111111111,
              "#46039f"
             ],
             [
              0.2222222222222222,
              "#7201a8"
             ],
             [
              0.3333333333333333,
              "#9c179e"
             ],
             [
              0.4444444444444444,
              "#bd3786"
             ],
             [
              0.5555555555555556,
              "#d8576b"
             ],
             [
              0.6666666666666666,
              "#ed7953"
             ],
             [
              0.7777777777777778,
              "#fb9f3a"
             ],
             [
              0.8888888888888888,
              "#fdca26"
             ],
             [
              1,
              "#f0f921"
             ]
            ],
            "type": "contour"
           }
          ],
          "contourcarpet": [
           {
            "colorbar": {
             "outlinewidth": 0,
             "ticks": ""
            },
            "type": "contourcarpet"
           }
          ],
          "heatmap": [
           {
            "colorbar": {
             "outlinewidth": 0,
             "ticks": ""
            },
            "colorscale": [
             [
              0,
              "#0d0887"
             ],
             [
              0.1111111111111111,
              "#46039f"
             ],
             [
              0.2222222222222222,
              "#7201a8"
             ],
             [
              0.3333333333333333,
              "#9c179e"
             ],
             [
              0.4444444444444444,
              "#bd3786"
             ],
             [
              0.5555555555555556,
              "#d8576b"
             ],
             [
              0.6666666666666666,
              "#ed7953"
             ],
             [
              0.7777777777777778,
              "#fb9f3a"
             ],
             [
              0.8888888888888888,
              "#fdca26"
             ],
             [
              1,
              "#f0f921"
             ]
            ],
            "type": "heatmap"
           }
          ],
          "heatmapgl": [
           {
            "colorbar": {
             "outlinewidth": 0,
             "ticks": ""
            },
            "colorscale": [
             [
              0,
              "#0d0887"
             ],
             [
              0.1111111111111111,
              "#46039f"
             ],
             [
              0.2222222222222222,
              "#7201a8"
             ],
             [
              0.3333333333333333,
              "#9c179e"
             ],
             [
              0.4444444444444444,
              "#bd3786"
             ],
             [
              0.5555555555555556,
              "#d8576b"
             ],
             [
              0.6666666666666666,
              "#ed7953"
             ],
             [
              0.7777777777777778,
              "#fb9f3a"
             ],
             [
              0.8888888888888888,
              "#fdca26"
             ],
             [
              1,
              "#f0f921"
             ]
            ],
            "type": "heatmapgl"
           }
          ],
          "histogram": [
           {
            "marker": {
             "pattern": {
              "fillmode": "overlay",
              "size": 10,
              "solidity": 0.2
             }
            },
            "type": "histogram"
           }
          ],
          "histogram2d": [
           {
            "colorbar": {
             "outlinewidth": 0,
             "ticks": ""
            },
            "colorscale": [
             [
              0,
              "#0d0887"
             ],
             [
              0.1111111111111111,
              "#46039f"
             ],
             [
              0.2222222222222222,
              "#7201a8"
             ],
             [
              0.3333333333333333,
              "#9c179e"
             ],
             [
              0.4444444444444444,
              "#bd3786"
             ],
             [
              0.5555555555555556,
              "#d8576b"
             ],
             [
              0.6666666666666666,
              "#ed7953"
             ],
             [
              0.7777777777777778,
              "#fb9f3a"
             ],
             [
              0.8888888888888888,
              "#fdca26"
             ],
             [
              1,
              "#f0f921"
             ]
            ],
            "type": "histogram2d"
           }
          ],
          "histogram2dcontour": [
           {
            "colorbar": {
             "outlinewidth": 0,
             "ticks": ""
            },
            "colorscale": [
             [
              0,
              "#0d0887"
             ],
             [
              0.1111111111111111,
              "#46039f"
             ],
             [
              0.2222222222222222,
              "#7201a8"
             ],
             [
              0.3333333333333333,
              "#9c179e"
             ],
             [
              0.4444444444444444,
              "#bd3786"
             ],
             [
              0.5555555555555556,
              "#d8576b"
             ],
             [
              0.6666666666666666,
              "#ed7953"
             ],
             [
              0.7777777777777778,
              "#fb9f3a"
             ],
             [
              0.8888888888888888,
              "#fdca26"
             ],
             [
              1,
              "#f0f921"
             ]
            ],
            "type": "histogram2dcontour"
           }
          ],
          "mesh3d": [
           {
            "colorbar": {
             "outlinewidth": 0,
             "ticks": ""
            },
            "type": "mesh3d"
           }
          ],
          "parcoords": [
           {
            "line": {
             "colorbar": {
              "outlinewidth": 0,
              "ticks": ""
             }
            },
            "type": "parcoords"
           }
          ],
          "pie": [
           {
            "automargin": true,
            "type": "pie"
           }
          ],
          "scatter": [
           {
            "fillpattern": {
             "fillmode": "overlay",
             "size": 10,
             "solidity": 0.2
            },
            "type": "scatter"
           }
          ],
          "scatter3d": [
           {
            "line": {
             "colorbar": {
              "outlinewidth": 0,
              "ticks": ""
             }
            },
            "marker": {
             "colorbar": {
              "outlinewidth": 0,
              "ticks": ""
             }
            },
            "type": "scatter3d"
           }
          ],
          "scattercarpet": [
           {
            "marker": {
             "colorbar": {
              "outlinewidth": 0,
              "ticks": ""
             }
            },
            "type": "scattercarpet"
           }
          ],
          "scattergeo": [
           {
            "marker": {
             "colorbar": {
              "outlinewidth": 0,
              "ticks": ""
             }
            },
            "type": "scattergeo"
           }
          ],
          "scattergl": [
           {
            "marker": {
             "colorbar": {
              "outlinewidth": 0,
              "ticks": ""
             }
            },
            "type": "scattergl"
           }
          ],
          "scattermapbox": [
           {
            "marker": {
             "colorbar": {
              "outlinewidth": 0,
              "ticks": ""
             }
            },
            "type": "scattermapbox"
           }
          ],
          "scatterpolar": [
           {
            "marker": {
             "colorbar": {
              "outlinewidth": 0,
              "ticks": ""
             }
            },
            "type": "scatterpolar"
           }
          ],
          "scatterpolargl": [
           {
            "marker": {
             "colorbar": {
              "outlinewidth": 0,
              "ticks": ""
             }
            },
            "type": "scatterpolargl"
           }
          ],
          "scatterternary": [
           {
            "marker": {
             "colorbar": {
              "outlinewidth": 0,
              "ticks": ""
             }
            },
            "type": "scatterternary"
           }
          ],
          "surface": [
           {
            "colorbar": {
             "outlinewidth": 0,
             "ticks": ""
            },
            "colorscale": [
             [
              0,
              "#0d0887"
             ],
             [
              0.1111111111111111,
              "#46039f"
             ],
             [
              0.2222222222222222,
              "#7201a8"
             ],
             [
              0.3333333333333333,
              "#9c179e"
             ],
             [
              0.4444444444444444,
              "#bd3786"
             ],
             [
              0.5555555555555556,
              "#d8576b"
             ],
             [
              0.6666666666666666,
              "#ed7953"
             ],
             [
              0.7777777777777778,
              "#fb9f3a"
             ],
             [
              0.8888888888888888,
              "#fdca26"
             ],
             [
              1,
              "#f0f921"
             ]
            ],
            "type": "surface"
           }
          ],
          "table": [
           {
            "cells": {
             "fill": {
              "color": "#EBF0F8"
             },
             "line": {
              "color": "white"
             }
            },
            "header": {
             "fill": {
              "color": "#C8D4E3"
             },
             "line": {
              "color": "white"
             }
            },
            "type": "table"
           }
          ]
         },
         "layout": {
          "annotationdefaults": {
           "arrowcolor": "#2a3f5f",
           "arrowhead": 0,
           "arrowwidth": 1
          },
          "autotypenumbers": "strict",
          "coloraxis": {
           "colorbar": {
            "outlinewidth": 0,
            "ticks": ""
           }
          },
          "colorscale": {
           "diverging": [
            [
             0,
             "#8e0152"
            ],
            [
             0.1,
             "#c51b7d"
            ],
            [
             0.2,
             "#de77ae"
            ],
            [
             0.3,
             "#f1b6da"
            ],
            [
             0.4,
             "#fde0ef"
            ],
            [
             0.5,
             "#f7f7f7"
            ],
            [
             0.6,
             "#e6f5d0"
            ],
            [
             0.7,
             "#b8e186"
            ],
            [
             0.8,
             "#7fbc41"
            ],
            [
             0.9,
             "#4d9221"
            ],
            [
             1,
             "#276419"
            ]
           ],
           "sequential": [
            [
             0,
             "#0d0887"
            ],
            [
             0.1111111111111111,
             "#46039f"
            ],
            [
             0.2222222222222222,
             "#7201a8"
            ],
            [
             0.3333333333333333,
             "#9c179e"
            ],
            [
             0.4444444444444444,
             "#bd3786"
            ],
            [
             0.5555555555555556,
             "#d8576b"
            ],
            [
             0.6666666666666666,
             "#ed7953"
            ],
            [
             0.7777777777777778,
             "#fb9f3a"
            ],
            [
             0.8888888888888888,
             "#fdca26"
            ],
            [
             1,
             "#f0f921"
            ]
           ],
           "sequentialminus": [
            [
             0,
             "#0d0887"
            ],
            [
             0.1111111111111111,
             "#46039f"
            ],
            [
             0.2222222222222222,
             "#7201a8"
            ],
            [
             0.3333333333333333,
             "#9c179e"
            ],
            [
             0.4444444444444444,
             "#bd3786"
            ],
            [
             0.5555555555555556,
             "#d8576b"
            ],
            [
             0.6666666666666666,
             "#ed7953"
            ],
            [
             0.7777777777777778,
             "#fb9f3a"
            ],
            [
             0.8888888888888888,
             "#fdca26"
            ],
            [
             1,
             "#f0f921"
            ]
           ]
          },
          "colorway": [
           "#636efa",
           "#EF553B",
           "#00cc96",
           "#ab63fa",
           "#FFA15A",
           "#19d3f3",
           "#FF6692",
           "#B6E880",
           "#FF97FF",
           "#FECB52"
          ],
          "font": {
           "color": "#2a3f5f"
          },
          "geo": {
           "bgcolor": "white",
           "lakecolor": "white",
           "landcolor": "#E5ECF6",
           "showlakes": true,
           "showland": true,
           "subunitcolor": "white"
          },
          "hoverlabel": {
           "align": "left"
          },
          "hovermode": "closest",
          "mapbox": {
           "style": "light"
          },
          "paper_bgcolor": "white",
          "plot_bgcolor": "#E5ECF6",
          "polar": {
           "angularaxis": {
            "gridcolor": "white",
            "linecolor": "white",
            "ticks": ""
           },
           "bgcolor": "#E5ECF6",
           "radialaxis": {
            "gridcolor": "white",
            "linecolor": "white",
            "ticks": ""
           }
          },
          "scene": {
           "xaxis": {
            "backgroundcolor": "#E5ECF6",
            "gridcolor": "white",
            "gridwidth": 2,
            "linecolor": "white",
            "showbackground": true,
            "ticks": "",
            "zerolinecolor": "white"
           },
           "yaxis": {
            "backgroundcolor": "#E5ECF6",
            "gridcolor": "white",
            "gridwidth": 2,
            "linecolor": "white",
            "showbackground": true,
            "ticks": "",
            "zerolinecolor": "white"
           },
           "zaxis": {
            "backgroundcolor": "#E5ECF6",
            "gridcolor": "white",
            "gridwidth": 2,
            "linecolor": "white",
            "showbackground": true,
            "ticks": "",
            "zerolinecolor": "white"
           }
          },
          "shapedefaults": {
           "line": {
            "color": "#2a3f5f"
           }
          },
          "ternary": {
           "aaxis": {
            "gridcolor": "white",
            "linecolor": "white",
            "ticks": ""
           },
           "baxis": {
            "gridcolor": "white",
            "linecolor": "white",
            "ticks": ""
           },
           "bgcolor": "#E5ECF6",
           "caxis": {
            "gridcolor": "white",
            "linecolor": "white",
            "ticks": ""
           }
          },
          "title": {
           "x": 0.05
          },
          "xaxis": {
           "automargin": true,
           "gridcolor": "white",
           "linecolor": "white",
           "ticks": "",
           "title": {
            "standoff": 15
           },
           "zerolinecolor": "white",
           "zerolinewidth": 2
          },
          "yaxis": {
           "automargin": true,
           "gridcolor": "white",
           "linecolor": "white",
           "ticks": "",
           "title": {
            "standoff": 15
           },
           "zerolinecolor": "white",
           "zerolinewidth": 2
          }
         }
        },
        "title": {
         "text": "Regressionsgerade für maximale Kraft abhängig vom Füllgrad"
        },
        "xaxis": {
         "anchor": "y",
         "domain": [
          0,
          1
         ],
         "title": {
          "text": "Fuellgrad"
         }
        },
        "yaxis": {
         "anchor": "x",
         "domain": [
          0,
          1
         ],
         "title": {
          "text": "maximale Kraft[N]"
         }
        }
       }
      }
     },
     "metadata": {},
     "output_type": "display_data"
    },
    {
     "data": {
      "application/vnd.jupyter.widget-view+json": {
       "model_id": "1a79ffcd73f942deab6d7587451d1611",
       "version_major": 2,
       "version_minor": 0
      },
      "text/plain": [
       "interactive(children=(FloatSlider(value=500.0, description='Steigung', max=600.0, min=500.0, step=5.0), FloatS…"
      ]
     },
     "metadata": {},
     "output_type": "display_data"
    },
    {
     "data": {
      "text/plain": [
       "<function __main__.update_regression_line(weight=1.0, intercept=0.0)>"
      ]
     },
     "execution_count": 11,
     "metadata": {},
     "output_type": "execute_result"
    }
   ],
   "source": [
    "import plotly.express as px\n",
    "import plotly.graph_objects as go\n",
    "from ipywidgets import interact, FloatSlider\n",
    "import numpy as np\n",
    "\n",
    "\n",
    "# Scatter plot\n",
    "fig = px.scatter(eingabedaten,\n",
    "    x='Fuellgrad',\n",
    "    y=ausgabedaten,\n",
    "    title='Regressionsgerade für maximale Kraft abhängig vom Füllgrad',\n",
    "    labels={'y': 'maximale Kraft[N]'}\n",
    ")\n",
    "\n",
    "# Interactive function for updating the regression line\n",
    "def update_regression_line(weight=1.0, intercept=0.0):\n",
    "    fig.data = []  # Clear existing data to avoid overlapping lines\n",
    "    fig.add_trace(go.Scatter(x=eingabedaten['Fuellgrad'], y=ausgabedaten, mode='markers', name='Daten'))\n",
    "\n",
    "    # Calculate regression line based on slider values\n",
    "    regression_line = weight * eingabedaten['Fuellgrad'] + intercept\n",
    "    fig.add_trace(go.Scatter(\n",
    "        x=eingabedaten['Fuellgrad'],\n",
    "        y=regression_line,\n",
    "        mode='lines',\n",
    "        name='Regressionsgerade',\n",
    "        line=dict(color='red')\n",
    "    ))\n",
    "    \n",
    "    fig.update_layout(xaxis_range=[0.15, 0.45], yaxis_range=[0,250])\n",
    "    fig.show()\n",
    "\n",
    "# Sliders for controlling weight and intercept\n",
    "interact(\n",
    "    update_regression_line,\n",
    "    weight=FloatSlider(value=1.0, min=500, max=600, step=5, description='Steigung'),\n",
    "    intercept=FloatSlider(value=0.0, min=-120, max=-100, step=1, description='y-Achsenabschnitt')\n",
    ")\n"
   ]
  }
 ],
 "metadata": {
  "kernelspec": {
   "display_name": "python311",
   "language": "python",
   "name": "python3"
  },
  "language_info": {
   "codemirror_mode": {
    "name": "ipython",
    "version": 3
   },
   "file_extension": ".py",
   "mimetype": "text/x-python",
   "name": "python",
   "nbconvert_exporter": "python",
   "pygments_lexer": "ipython3",
   "version": "3.11.0"
  }
 },
 "nbformat": 4,
 "nbformat_minor": 2
}
