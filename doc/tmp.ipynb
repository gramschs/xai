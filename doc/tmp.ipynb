{
 "cells": [
  {
   "cell_type": "code",
   "execution_count": 5,
   "metadata": {},
   "outputs": [],
   "source": [
    "# Load with dill\n",
    "import dill\n",
    "with open('schuheinlagen_orakel.dill', 'rb') as f:\n",
    "    ki_modell = dill.load(f)\n",
    "\n"
   ]
  },
  {
   "cell_type": "code",
   "execution_count": 6,
   "metadata": {},
   "outputs": [
    {
     "name": "stdout",
     "output_type": "stream",
     "text": [
      "Help on SchuheinlagenOrakel in module __main__ object:\n",
      "\n",
      "class SchuheinlagenOrakel(builtins.object)\n",
      " |  SchuheinlagenOrakel(model)\n",
      " |  \n",
      " |  Dies ist das Schuheinlagen Orakel. Das Orakel ist ein KI-System,\n",
      " |  das die Produktion von personalisierten Schuheinlagen unterstützt.\n",
      " |  Die einzige Methode, die das KI-System zur Verfügung stellt, ist die\n",
      " |  Prognose .predict(). Mehr Details: help(modell.predict)\n",
      " |  \n",
      " |  Beispiel:\n",
      " |  \n",
      " |  import pandas as pd \n",
      " |  \n",
      " |  bauteile = pd.DataFrame({\n",
      " |      'Zellenform': [1, 1],\n",
      " |      'Zellengroesse': [3.0, 3.3],\n",
      " |      'Fuellgrad': [0.3, 0.38]\n",
      " |  })\n",
      " |  maximale_kraft = modell.predict(X)\n",
      " |  \n",
      " |  Methods defined here:\n",
      " |  \n",
      " |  __init__(self, model)\n",
      " |  \n",
      " |  predict(self, X)\n",
      " |      Prognostiziert die maximale Kraft, die von dem Bauteil aufgenommen werden kann.\n",
      " |      \n",
      " |      Argument X:\n",
      " |          Pandas DataFrame: Beschreibung der Eigenschaften des Bauteils.\n",
      " |      \n",
      " |          Die Spalten des Pandas DataFrames beinhalten \n",
      " |          * 'Zellenform': Integer 1 für X-Zelle und 2 für Gyroid\n",
      " |          * 'Zellengroesse': Float im Intervall [2, 10] in Millimetern\n",
      " |          * 'Fuellgrad': Float im Intervall [0.1, 0.45]\n",
      " |      \n",
      " |      Rückgabewert:\n",
      " |          float: prognostizierte maximale Kraft in Newton\n",
      " |  \n",
      " |  ----------------------------------------------------------------------\n",
      " |  Data descriptors defined here:\n",
      " |  \n",
      " |  __dict__\n",
      " |      dictionary for instance variables (if defined)\n",
      " |  \n",
      " |  __weakref__\n",
      " |      list of weak references to the object (if defined)\n",
      " |  \n",
      " |  ----------------------------------------------------------------------\n",
      " |  Data and other attributes defined here:\n",
      " |  \n",
      " |  __slotnames__ = []\n",
      "\n"
     ]
    }
   ],
   "source": [
    "help(ki_modell)"
   ]
  }
 ],
 "metadata": {
  "kernelspec": {
   "display_name": "python311",
   "language": "python",
   "name": "python3"
  },
  "language_info": {
   "codemirror_mode": {
    "name": "ipython",
    "version": 3
   },
   "file_extension": ".py",
   "mimetype": "text/x-python",
   "name": "python",
   "nbconvert_exporter": "python",
   "pygments_lexer": "ipython3",
   "version": "3.11.0"
  }
 },
 "nbformat": 4,
 "nbformat_minor": 2
}
